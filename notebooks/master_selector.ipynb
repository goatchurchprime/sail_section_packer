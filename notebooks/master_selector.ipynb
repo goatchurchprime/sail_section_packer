{
 "cells": [
  {
   "cell_type": "code",
   "execution_count": 83,
   "metadata": {},
   "outputs": [
    {
     "name": "stdout",
     "output_type": "stream",
     "text": [
      "layerspresent: {'SPLINES-MASTER', 'CONSTRUCTION', 'BSR-CUT-EVO', 'PATCH-MYLAR', 'BSR-CUT-PUMA', 'BSR-PLOT-EVO', 'PUMA-REF', 'BSF-CUT-BOTH', 'PATCH-INSIDE', 'BSM-PLOT-PUMA', 'HISTORY', 'BSR-PLOT-PUMA', 'PATCH-OUTSIDE', 'PATCH-REF', 'BSF-PLOT-PUMA', 'BSF-PLOT-EVO', 'BSM-PLOT-EVO', 'BSM-CUT-BOTH'}\n"
     ]
    }
   ],
   "source": [
    "import ezdxf\n",
    "\n",
    "fname = \"../dxffiles/P-E-13,5-BS-Master-09.dxf\"\n",
    "d = ezdxf.readfile(fname)\n",
    "print(\"layerspresent:\", set(e.dxf.layer for e in d.entities))\n"
   ]
  },
  {
   "cell_type": "code",
   "execution_count": 84,
   "metadata": {},
   "outputs": [
    {
     "data": {
      "text/plain": [
       "<class 'ezdxf.entities.layer.Layer'> LAYER(#30)"
      ]
     },
     "execution_count": 84,
     "metadata": {},
     "output_type": "execute_result"
    }
   ],
   "source": [
    "keeplayers = [\"BSF-CUT-BOTH\", 'BSF-PLOT-PUMA']\n",
    "selectedname = \"BSF-PUMA\"\n",
    "\n",
    "doc = ezdxf.new('R12')\n",
    "block = doc.blocks.new(name=selectedname)\n",
    "doc.layers.new(\"1\")\n"
   ]
  },
  {
   "cell_type": "code",
   "execution_count": 85,
   "metadata": {},
   "outputs": [],
   "source": [
    "for e in d.entities:\n",
    "    dxfattribs = {\"layer\":\"1\"}\n",
    "    if e.dxf.layer in keeplayers:\n",
    "        if e.dxftype() == \"LINE\":\n",
    "            block.add_line(e.dxf.start, e.dxf.end, dxfattribs=dxfattribs)\n",
    "        elif e.dxftype() == \"ARC\":\n",
    "            block.add_arc(e.dxf.center, e.dxf.radius, e.dxf.start_angle, e.dxf.end_angle, dxfattribs=dxfattribs)\n",
    "        elif e.dxftype() == \"SPLINE\":\n",
    "            import nurbs.Curve\n",
    "            curve = nurbs.Curve.Curve()\n",
    "            curve.ctrlpts = [p[:2]  for p in e.control_points]\n",
    "            curve.degree = e.dxf.degree\n",
    "            curve.knotvector = e.knots\n",
    "            #curve.knotvector = nurbs.utilities.knotvector_autogen(curve.degree, len(curve.ctrlpts))\n",
    "            #curve.weights = e.weights\n",
    "            curve.delta = 0.01\n",
    "            curve.evaluate_rational()\n",
    "            block.add_polyline2d(curve.curvepts, dxfattribs=dxfattribs)\n",
    "        else:\n",
    "            print(e.dxftype())\n",
    "            block.add_foreign_entity(e)\n"
   ]
  },
  {
   "cell_type": "code",
   "execution_count": 86,
   "metadata": {},
   "outputs": [],
   "source": [
    "msp = doc.modelspace()\n",
    "k = msp.add_blockref(selectedname, (0, 0, 0), dxfattribs={'rotation': 0, \"layer\":\"1\"})\n",
    "doc.saveas(\"test.dxf\")"
   ]
  },
  {
   "cell_type": "code",
   "execution_count": null,
   "metadata": {},
   "outputs": [],
   "source": []
  }
 ],
 "metadata": {
  "kernelspec": {
   "display_name": "Python 3",
   "language": "python",
   "name": "python3"
  },
  "language_info": {
   "codemirror_mode": {
    "name": "ipython",
    "version": 3
   },
   "file_extension": ".py",
   "mimetype": "text/x-python",
   "name": "python",
   "nbconvert_exporter": "python",
   "pygments_lexer": "ipython3",
   "version": "3.7.4"
  }
 },
 "nbformat": 4,
 "nbformat_minor": 2
}
