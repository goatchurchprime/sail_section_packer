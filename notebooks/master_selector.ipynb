{
 "cells": [
  {
   "cell_type": "code",
   "execution_count": 1,
   "metadata": {},
   "outputs": [
    {
     "name": "stdout",
     "output_type": "stream",
     "text": [
      "layerspresent: {'BSF-CUT-BOTH', 'BSR-CUT-EVO', 'BSM-CUT-BOTH', 'BSM-PLOT-EVO', 'BSR-PLOT-PUMA', 'PATCH-OUTSIDE', 'PATCH-MYLAR', 'BSR-CUT-PUMA', 'CONSTRUCTION', 'BSF-PLOT-PUMA', 'BSM-PLOT-PUMA', 'SPLINES-MASTER', 'PATCH-INSIDE', 'BSF-PLOT-EVO', 'PATCH-REF', 'BSR-PLOT-EVO', 'PUMA-REF', 'HISTORY'}\n"
     ]
    }
   ],
   "source": [
    "import ezdxf\n",
    "\n",
    "fname = \"../dxffiles/P-E-13,5-BS-Master-09.dxf\"\n",
    "d = ezdxf.readfile(fname)\n",
    "print(\"layerspresent:\", set(e.dxf.layer for e in d.entities))\n"
   ]
  },
  {
   "cell_type": "code",
   "execution_count": 2,
   "metadata": {},
   "outputs": [
    {
     "data": {
      "text/plain": [
       "<class 'ezdxf.entities.layer.Layer'> LAYER(#30)"
      ]
     },
     "execution_count": 2,
     "metadata": {},
     "output_type": "execute_result"
    }
   ],
   "source": [
    "keeplayers = [\"BSF-CUT-BOTH\", 'BSF-PLOT-PUMA']\n",
    "selectedname = \"BSF-PUMA\"\n",
    "\n",
    "doc = ezdxf.new('R12')\n",
    "block = doc.blocks.new(name=selectedname)\n",
    "doc.layers.new(\"1\")\n"
   ]
  },
  {
   "cell_type": "code",
   "execution_count": 3,
   "metadata": {},
   "outputs": [
    {
     "ename": "ModuleNotFoundError",
     "evalue": "No module named 'nurbs'",
     "output_type": "error",
     "traceback": [
      "\u001b[0;31m---------------------------------------------------------------------------\u001b[0m",
      "\u001b[0;31mModuleNotFoundError\u001b[0m                       Traceback (most recent call last)",
      "\u001b[0;32m/tmp/nix-shell.GCtmSW/ipykernel_208822/435566800.py\u001b[0m in \u001b[0;36m<module>\u001b[0;34m\u001b[0m\n\u001b[1;32m      7\u001b[0m             \u001b[0mblock\u001b[0m\u001b[0;34m.\u001b[0m\u001b[0madd_arc\u001b[0m\u001b[0;34m(\u001b[0m\u001b[0me\u001b[0m\u001b[0;34m.\u001b[0m\u001b[0mdxf\u001b[0m\u001b[0;34m.\u001b[0m\u001b[0mcenter\u001b[0m\u001b[0;34m,\u001b[0m \u001b[0me\u001b[0m\u001b[0;34m.\u001b[0m\u001b[0mdxf\u001b[0m\u001b[0;34m.\u001b[0m\u001b[0mradius\u001b[0m\u001b[0;34m,\u001b[0m \u001b[0me\u001b[0m\u001b[0;34m.\u001b[0m\u001b[0mdxf\u001b[0m\u001b[0;34m.\u001b[0m\u001b[0mstart_angle\u001b[0m\u001b[0;34m,\u001b[0m \u001b[0me\u001b[0m\u001b[0;34m.\u001b[0m\u001b[0mdxf\u001b[0m\u001b[0;34m.\u001b[0m\u001b[0mend_angle\u001b[0m\u001b[0;34m,\u001b[0m \u001b[0mdxfattribs\u001b[0m\u001b[0;34m=\u001b[0m\u001b[0mdxfattribs\u001b[0m\u001b[0;34m)\u001b[0m\u001b[0;34m\u001b[0m\u001b[0;34m\u001b[0m\u001b[0m\n\u001b[1;32m      8\u001b[0m         \u001b[0;32melif\u001b[0m \u001b[0me\u001b[0m\u001b[0;34m.\u001b[0m\u001b[0mdxftype\u001b[0m\u001b[0;34m(\u001b[0m\u001b[0;34m)\u001b[0m \u001b[0;34m==\u001b[0m \u001b[0;34m\"SPLINE\"\u001b[0m\u001b[0;34m:\u001b[0m\u001b[0;34m\u001b[0m\u001b[0;34m\u001b[0m\u001b[0m\n\u001b[0;32m----> 9\u001b[0;31m             \u001b[0;32mimport\u001b[0m \u001b[0mnurbs\u001b[0m\u001b[0;34m.\u001b[0m\u001b[0mCurve\u001b[0m\u001b[0;34m\u001b[0m\u001b[0;34m\u001b[0m\u001b[0m\n\u001b[0m\u001b[1;32m     10\u001b[0m             \u001b[0mcurve\u001b[0m \u001b[0;34m=\u001b[0m \u001b[0mnurbs\u001b[0m\u001b[0;34m.\u001b[0m\u001b[0mCurve\u001b[0m\u001b[0;34m.\u001b[0m\u001b[0mCurve\u001b[0m\u001b[0;34m(\u001b[0m\u001b[0;34m)\u001b[0m\u001b[0;34m\u001b[0m\u001b[0;34m\u001b[0m\u001b[0m\n\u001b[1;32m     11\u001b[0m             \u001b[0mcurve\u001b[0m\u001b[0;34m.\u001b[0m\u001b[0mctrlpts\u001b[0m \u001b[0;34m=\u001b[0m \u001b[0;34m[\u001b[0m\u001b[0mp\u001b[0m\u001b[0;34m[\u001b[0m\u001b[0;34m:\u001b[0m\u001b[0;36m2\u001b[0m\u001b[0;34m]\u001b[0m  \u001b[0;32mfor\u001b[0m \u001b[0mp\u001b[0m \u001b[0;32min\u001b[0m \u001b[0me\u001b[0m\u001b[0;34m.\u001b[0m\u001b[0mcontrol_points\u001b[0m\u001b[0;34m]\u001b[0m\u001b[0;34m\u001b[0m\u001b[0;34m\u001b[0m\u001b[0m\n",
      "\u001b[0;31mModuleNotFoundError\u001b[0m: No module named 'nurbs'"
     ]
    }
   ],
   "source": [
    "for e in d.entities:\n",
    "    dxfattribs = {\"layer\":\"1\"}\n",
    "    if e.dxf.layer in keeplayers:\n",
    "        if e.dxftype() == \"LINE\":\n",
    "            block.add_line(e.dxf.start, e.dxf.end, dxfattribs=dxfattribs)\n",
    "        elif e.dxftype() == \"ARC\":\n",
    "            block.add_arc(e.dxf.center, e.dxf.radius, e.dxf.start_angle, e.dxf.end_angle, dxfattribs=dxfattribs)\n",
    "        elif e.dxftype() == \"SPLINE\":\n",
    "            import nurbs.Curve\n",
    "            curve = nurbs.Curve.Curve()\n",
    "            curve.ctrlpts = [p[:2]  for p in e.control_points]\n",
    "            curve.degree = e.dxf.degree\n",
    "            curve.knotvector = e.knots\n",
    "            #curve.knotvector = nurbs.utilities.knotvector_autogen(curve.degree, len(curve.ctrlpts))\n",
    "            #curve.weights = e.weights\n",
    "            curve.delta = 0.01\n",
    "            curve.evaluate_rational()\n",
    "            block.add_polyline2d(curve.curvepts, dxfattribs=dxfattribs)\n",
    "        else:\n",
    "            print(e.dxftype())\n",
    "            block.add_foreign_entity(e)\n"
   ]
  },
  {
   "cell_type": "code",
   "execution_count": 86,
   "metadata": {},
   "outputs": [],
   "source": [
    "msp = doc.modelspace()\n",
    "k = msp.add_blockref(selectedname, (0, 0, 0), dxfattribs={'rotation': 0, \"layer\":\"1\"})\n",
    "doc.saveas(\"test.dxf\")"
   ]
  },
  {
   "cell_type": "code",
   "execution_count": null,
   "metadata": {},
   "outputs": [],
   "source": []
  }
 ],
 "metadata": {
  "kernelspec": {
   "display_name": "Python 3 (ipykernel)",
   "language": "python",
   "name": "python3"
  },
  "language_info": {
   "codemirror_mode": {
    "name": "ipython",
    "version": 3
   },
   "file_extension": ".py",
   "mimetype": "text/x-python",
   "name": "python",
   "nbconvert_exporter": "python",
   "pygments_lexer": "ipython3",
   "version": "3.9.6"
  }
 },
 "nbformat": 4,
 "nbformat_minor": 2
}
