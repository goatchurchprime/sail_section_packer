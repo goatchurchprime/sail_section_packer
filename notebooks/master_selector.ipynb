{
 "cells": [
  {
   "cell_type": "code",
   "execution_count": 1,
   "metadata": {},
   "outputs": [
    {
     "name": "stdout",
     "output_type": "stream",
     "text": [
      "layerspresent: {'BSF-CUT-BOTH', 'BSR-CUT-EVO', 'BSM-CUT-BOTH', 'BSM-PLOT-EVO', 'BSR-PLOT-PUMA', 'PATCH-OUTSIDE', 'PATCH-MYLAR', 'BSR-CUT-PUMA', 'CONSTRUCTION', 'BSF-PLOT-PUMA', 'BSM-PLOT-PUMA', 'SPLINES-MASTER', 'PATCH-INSIDE', 'BSF-PLOT-EVO', 'PATCH-REF', 'BSR-PLOT-EVO', 'PUMA-REF', 'HISTORY'}\n"
     ]
    }
   ],
   "source": [
    "\n",
    "import ezdxf\n",
    "\n",
    "AAMA_CUT = \"1\"\n",
    "AAMA_DRAW = \"8\"\n",
    "AAMA_INTCUT = \"11\"\n",
    "\n",
    "\n",
    "fname = \"../dxffiles/P-E-13,5-BS-Master-09.dxf\"\n",
    "d = ezdxf.readfile(fname)\n",
    "print(\"layerspresent:\", set(e.dxf.layer for e in d.entities))\n",
    "\n"
   ]
  },
  {
   "cell_type": "code",
   "execution_count": 2,
   "metadata": {},
   "outputs": [],
   "source": [
    "\n",
    "# 1 for cut, 8 for pen\n",
    "keeplayers = {\"BSF-CUT-BOTH\":\"1\", 'BSF-PLOT-PUMA':\"8\"}\n",
    "selectedname = \"BSF-PUMA\"\n",
    "\n",
    "    doc = ezdxf.new('R12')\n",
    "    block = doc.blocks.new(name=selectedname)\n",
    "    aamalayers = { \"1\":doc.layers.new(\"1\"), \"8\":doc.layers.new(\"8\") }\n",
    "    aamalayers[\"1\"].color = 1\n",
    "    aamalayers[\"8\"].color = 3\n"
   ]
  },
  {
   "cell_type": "code",
   "execution_count": 248,
   "metadata": {},
   "outputs": [],
   "source": [
    "NONURBS = True\n",
    "cuts = [ ]\n",
    "for e in d.entities:\n",
    "    if e.dxf.layer in keeplayers:\n",
    "        dxfattribs = {\"layer\":keeplayers[e.dxf.layer] }\n",
    "        if keeplayers[e.dxf.layer] == \"1\":\n",
    "            cuts.append(e)\n",
    "        if e.dxftype() == \"LINE\":\n",
    "            block.add_line(e.dxf.start, e.dxf.end, dxfattribs=dxfattribs)\n",
    "        elif e.dxftype() == \"ARC\":\n",
    "            block.add_arc(e.dxf.center, e.dxf.radius, e.dxf.start_angle, e.dxf.end_angle, dxfattribs=dxfattribs)\n",
    "        elif e.dxftype() == \"SPLINE\":\n",
    "            if NONURBS:\n",
    "                block.add_polyline2d(e._control_points, dxfattribs=dxfattribs)\n",
    "            else:\n",
    "                import nurbs.Curve\n",
    "                curve = nurbs.Curve.Curve()\n",
    "                curve.ctrlpts = [p[:2]  for p in e.control_points]\n",
    "                curve.degree = e.dxf.degree\n",
    "                curve.knotvector = e.knots\n",
    "                #curve.knotvector = nurbs.utilities.knotvector_autogen(curve.degree, len(curve.ctrlpts))\n",
    "                #curve.weights = e.weights\n",
    "                curve.delta = 0.01\n",
    "                curve.evaluate_rational()\n",
    "                block.add_polyline2d(curve.curvepts, dxfattribs=dxfattribs)\n",
    "        else:\n",
    "            print(e)\n",
    "            block.add_foreign_entity(e)\n"
   ]
  },
  {
   "cell_type": "code",
   "execution_count": 249,
   "metadata": {},
   "outputs": [],
   "source": [
    "msp = doc.modelspace()\n",
    "dxfattribs = {'rotation': 0, 'layer':\"block1\"}\n",
    "k = msp.add_blockref(selectedname, (0, 0, 0), dxfattribs=dxfattribs)\n",
    "doc.set_modelspace_vport(height=2300, center=(1800, 900))\n",
    "doc.saveas(\"test2.dxf\")\n"
   ]
  },
  {
   "cell_type": "code",
   "execution_count": 7,
   "metadata": {},
   "outputs": [
    {
     "data": {
      "text/plain": [
       "27.272663597809704"
      ]
     },
     "execution_count": 7,
     "metadata": {},
     "output_type": "execute_result"
    }
   ],
   "source": [
    "def front(e):\n",
    "    if e.dxftype() == \"LINE\":\n",
    "        return e.dxf.start\n",
    "    elif e.dxftype() == \"ARC\":\n",
    "        return e.dxf.center + ezdxf.math.vector.Vector.from_angle(e.dxf.start_angle, e.dxf.radius)\n",
    "    elif e.dxftype() == \"SPLINE\":\n",
    "        if NONURBS:\n",
    "            return ezdxf.math.vector.Vector(e._control_points[0])\n",
    "    else:\n",
    "        assert False\n",
    "\n",
    "def back(e):\n",
    "    if e.dxftype() == \"LINE\":\n",
    "        return e.dxf.end\n",
    "    elif e.dxftype() == \"ARC\":\n",
    "        return e.dxf.center + ezdxf.math.vector.Vector.from_angle(e.dxf.end_angle, e.dxf.radius)\n",
    "    elif e.dxftype() == \"SPLINE\":\n",
    "        if NONURBS:\n",
    "            return ezdxf.math.vector.Vector(e._control_points[-1])\n",
    "    else:\n",
    "        assert False\n",
    "\n",
    "        \n",
    "def length(e):\n",
    "    if e.dxftype() == \"LINE\":\n",
    "        return (e.dxf.end - e.dxf.start).magnitude\n",
    "    elif e.dxftype() == \"ARC\":\n",
    "        return abs(e.dxf.end_angle - e.dxf.start_angle)*e.dxf.radius\n",
    "    elif e.dxftype() == \"SPLINE\":\n",
    "        if NONURBS:\n",
    "            return sum((ezdxf.math.vector.Vector(a)-ezdxf.math.vector.Vector(b)).magnitude  for a, b in zip(e._control_points, e._control_points[1:]))\n",
    "    assert False\n",
    "        \n",
    "        \n",
    "length(cuts[0])"
   ]
  },
  {
   "cell_type": "code",
   "execution_count": 228,
   "metadata": {},
   "outputs": [],
   "source": [
    "class MergeVert:\n",
    "    def __init__(self, pt, prevmv):\n",
    "        self.pt = pt\n",
    "        self.jseq = [ ]\n",
    "        self.successormv = None\n",
    "        if prevmv is not None:\n",
    "            assert prevmv.successormv is None\n",
    "            prevmv.successormv = self\n",
    "            \n",
    "    def mergein(self, mv):\n",
    "        assert self.successormv is None\n",
    "        assert mv.successormv is None\n",
    "        assert len(self.jseq) != 0 and len(mv.jseq) != 0\n",
    "        spt = self.pt*len(self.jseq) + mv.pt*len(mv.jseq)\n",
    "        self.jseq.extend(mv.jseq)\n",
    "        mv.successormv = self\n",
    "        mv.pt = spt/len(self.jseq)\n",
    "        mv.jseq.clear()\n",
    "        \n",
    "    def ultimatesuccessor(self):\n",
    "        mv = self\n",
    "        while mv.successormv is not None:\n",
    "            mv = mv.successormv\n",
    "        return mv\n",
    "            \n",
    "def MergeVertBiway(e):\n",
    "    mv0 = MergeVert(back(e), None)\n",
    "    mv1 = MergeVert(front(e), None)\n",
    "    mv0.jseq.append((e, True, mv1))\n",
    "    mv1.jseq.append((e, False, mv0))\n",
    "    return [mv0, mv1]\n",
    "\n",
    "\n",
    "mergeverts = [ ]\n",
    "for e in d.entities:\n",
    "    if e.dxf.layer in cutlayers:\n",
    "        mergeverts.extend(MergeVertBiway(e))\n",
    "mergeverts.sort(key=lambda X: X.pt.x)\n",
    "dmax = 1.0\n",
    "        "
   ]
  },
  {
   "cell_type": "code",
   "execution_count": 229,
   "metadata": {},
   "outputs": [
    {
     "name": "stdout",
     "output_type": "stream",
     "text": [
      "already merged  (2935.043769237609, 1219.912584427617, 0.0)\n",
      "already merged  (2935.043769237609, 1219.912584427617, 0.0)\n",
      "already merged  (2935.043769237609, 1219.912584427617, 0.0)\n",
      "already merged  (3493.317169034605, 1140.714969863142, 0.0)\n"
     ]
    }
   ],
   "source": [
    "mvdists = [ ]\n",
    "for i in range(len(mergeverts)):\n",
    "    for j in range(i+1, len(mergeverts)):\n",
    "        v = mergeverts[j].pt - mergeverts[i].pt\n",
    "        if v.x > dmax:\n",
    "            break\n",
    "        if v.magnitude < dmax:\n",
    "            mvdists.append((v.magnitude, mergeverts[i], mergeverts[j]))\n",
    "mvdists.sort(key=lambda X:X[0])\n",
    "\n",
    "# avoid including short segments that aren't actually loops\n",
    "smergeverts = set(mergeverts)\n",
    "for i in range(len(mvdists)):\n",
    "    mv0 = mvdists[i][1].ultimatesuccessor()\n",
    "    mv1 = mvdists[i][2].ultimatesuccessor()\n",
    "    if mv0 != mv1:\n",
    "        mv0.mergein(mv1)\n",
    "        smergeverts.remove(mv1)\n",
    "    else:\n",
    "        print(\"already merged \", mv0.pt)\n",
    "        "
   ]
  },
  {
   "cell_type": "code",
   "execution_count": 243,
   "metadata": {},
   "outputs": [
    {
     "name": "stdout",
     "output_type": "stream",
     "text": [
      "[1, 1, 1, 1, 1, 2, 2, 2, 2, 2, 1, 2, 2, 2, 2, 2, 2, 2, 1, 2, 2, 2, 2, 1, 2, 1, 2, 2, 1, 2, 2, 1, 1, 2, 2, 3, 2, 2, 2, 2, 2, 2, 2, 2, 2, 2, 2, 2, 1, 2, 2, 2, 1, 2, 4, 1, 2, 2, 2, 2, 2, 2, 2, 2, 2, 2, 1, 2, 1]\n"
     ]
    }
   ],
   "source": [
    "print([len(mv.jseq)  for mv in smergeverts ])"
   ]
  },
  {
   "cell_type": "code",
   "execution_count": 247,
   "metadata": {},
   "outputs": [
    {
     "data": {
      "text/plain": [
       "<matplotlib.collections.PathCollection at 0x7f6d1c4559a0>"
      ]
     },
     "execution_count": 247,
     "metadata": {},
     "output_type": "execute_result"
    },
    {
     "data": {
      "image/png": "[encoded data removed]",
      "text/plain": [
       "<Figure size 432x288 with 1 Axes>"
      ]
     },
     "metadata": {
      "needs_background": "light"
     },
     "output_type": "display_data"
    }
   ],
   "source": [
    "from matplotlib import pyplot as plt\n",
    "%matplotlib inline\n",
    "xs = [mv.pt.x for mv in smergeverts]\n",
    "ys = [mv.pt.y for mv in smergeverts]\n",
    "plt.scatter(xs, ys)"
   ]
  },
  {
   "cell_type": "code",
   "execution_count": 234,
   "metadata": {},
   "outputs": [
    {
     "data": {
      "text/plain": [
       "<__main__.MergeVert at 0x7f6d1da5e190>"
      ]
     },
     "execution_count": 234,
     "metadata": {},
     "output_type": "execute_result"
    }
   ],
   "source": [
    "\n",
    "smv = smergeverts.copy()\n",
    "\n",
    "class TreeVert:\n",
    "    def __init__(self, mv, cc, e, bfore, depth, lngth, rejoined):\n",
    "        self.mv = mv\n",
    "        self.e = e\n",
    "        self.b\n",
    "        self.pt = mv.pt\n",
    "        self.cc = cc\n",
    "        self.depth = depth\n",
    "        self.lngth\n",
    "        self.rejoined = rejoined\n",
    "        if not rejoined:\n",
    "            self.leaves = [ ]\n",
    "\n",
    "            \n",
    "mvtreedict = { }\n",
    "mv0 = min(smv, key=lambda X: X.pt)\n",
    "cc = 0\n",
    "\n",
    "tv0 = TreeVert(mv0, cc, 0, 0.0)\n",
    "smv.erase(tv0)\n",
    "stack = [ (tv0, -1) ]\n",
    "mvtreedict[mv0] = tv0\n",
    "while len(stack) != 0:\n",
    "    tv, i = stack.pop()\n",
    "    i += 1\n",
    "    if i < len(tv.mv.jseq)\n",
    "        e, bfore, mv1 = tv.mv.jseq[i]\n",
    "        mvu = mv1.ultimatesuccessor()\n",
    "        if mvu not in mvtreedict:\n",
    "            pass\n",
    "        else:\n",
    "            tve = mvtreedict[mvu]\n",
    "            assert tv.cc == cc\n",
    "            tv.leaves.append(TreeVert(mvu, ))\n"
   ]
  },
  {
   "cell_type": "code",
   "execution_count": null,
   "metadata": {},
   "outputs": [],
   "source": []
  },
  {
   "cell_type": "code",
   "execution_count": null,
   "metadata": {},
   "outputs": [],
   "source": []
  },
  {
   "cell_type": "code",
   "execution_count": null,
   "metadata": {},
   "outputs": [],
   "source": []
  },
  {
   "cell_type": "code",
   "execution_count": null,
   "metadata": {},
   "outputs": [],
   "source": []
  },
  {
   "cell_type": "code",
   "execution_count": null,
   "metadata": {},
   "outputs": [],
   "source": []
  },
  {
   "cell_type": "code",
   "execution_count": null,
   "metadata": {},
   "outputs": [],
   "source": []
  },
  {
   "cell_type": "code",
   "execution_count": null,
   "metadata": {},
   "outputs": [],
   "source": []
  },
  {
   "cell_type": "code",
   "execution_count": 140,
   "metadata": {},
   "outputs": [],
   "source": [
    "cutlayers = [ \"BSF-CUT-BOTH\" ]\n",
    "\n",
    "class GEdge:\n",
    "    def __init__(self, e):\n",
    "        self.vertfore = None\n",
    "        self.vertback = None\n",
    "        self.e = e\n",
    "    def setvertjoin(self, gvertexjoin, bfore):\n",
    "        if bfore:\n",
    "            assert self.vertback == None\n",
    "            self.vertback = gvertexjoin\n",
    "        else:\n",
    "            assert self.vertfore == None\n",
    "            self.vertfore = gvertexjoin\n",
    "\n",
    "class GEdgedirected:\n",
    "    def __init__(self, ge, bfore):\n",
    "        self.ge = ge\n",
    "        self.bfore = bfore\n",
    "        self.ptend = front(ge.e) if bfore else back(ge.e)\n",
    "        self.referenced = False\n",
    "    \n",
    "\n",
    "class GVertexJoin:\n",
    "    def __init__(self, gedgedirected):\n",
    "        self.gedgesdirectedjoin = [ gedgedirected ]\n",
    "    def add(self, gedgedirected):\n",
    "        self.gedgesdirectedjoin.append(gedgedirected)\n",
    "        \n",
    "        \n",
    "gedges = [ ]\n",
    "gedgesdirected = [ ]\n",
    "for e in d.entities:\n",
    "    if e.dxf.layer in cutlayers:\n",
    "        ge = GEdge(e)\n",
    "        gedges.append(ge)\n",
    "        gedgesdirected.append(GEdgedirected(ge, True))\n",
    "        gedgesdirected.append(GEdgedirected(ge, False))\n",
    "\n",
    "gedgesdirected.sort(key=lambda X: X.ptend)      "
   ]
  },
  {
   "cell_type": "code",
   "execution_count": 141,
   "metadata": {},
   "outputs": [],
   "source": [
    "closedist = 0.32\n",
    "gedgesvertexjoins = [ ]\n",
    "i = 0\n",
    "for ged in gedgesdirected:  ged.referenced = False\n",
    "while i < len(gedgesdirected):\n",
    "    if not gedgesdirected[i].referenced:\n",
    "        gedgesvertexjoin = GVertexJoin(gedgesdirected[i])\n",
    "        gedgesdirected[i].referenced = True\n",
    "        j = i\n",
    "        while j + 1 < len(gedgesdirected) and gedgesdirected[j+1].ptend.x - gedgesdirected[i].ptend.x <= closedist:\n",
    "            j += 1\n",
    "            if not gedgesdirected[j].referenced and (gedgesdirected[j].ptend - gedgesdirected[i].ptend).magnitude <= closedist:\n",
    "                gedgesvertexjoin.add(gedgesdirected[j])\n",
    "                gedgesdirected[j].referenced = True\n",
    "        gedgesvertexjoins.append(gedgesvertexjoin)\n",
    "    i += 1\n",
    "    \n",
    "\n"
   ]
  },
  {
   "cell_type": "code",
   "execution_count": 151,
   "metadata": {},
   "outputs": [],
   "source": [
    "for gedge in gedges:  gedge.vertfore, gedge.vertback = None, None\n",
    "for gvertexjoin in gedgesvertexjoins:\n",
    "    for gedgedirected in gvertexjoin.gedgesdirectedjoin:\n",
    "        gedgedirected.ge.setvertjoin(gvertexjoin, gedgedirected.bfore)\n",
    "for gedge in gedges:\n",
    "    assert(gedge.vertfore != None and gedge.vertback != None)\n",
    "    "
   ]
  },
  {
   "cell_type": "code",
   "execution_count": 155,
   "metadata": {},
   "outputs": [
    {
     "data": {
      "text/plain": [
       "[<__main__.GEdgedirected at 0x7f6d94630820>]"
      ]
     },
     "execution_count": 155,
     "metadata": {},
     "output_type": "execute_result"
    }
   ],
   "source": []
  },
  {
   "cell_type": "code",
   "execution_count": 75,
   "metadata": {},
   "outputs": [
    {
     "data": {
      "text/plain": [
       "5334.0823718588435"
      ]
     },
     "execution_count": 75,
     "metadata": {},
     "output_type": "execute_result"
    }
   ],
   "source": [
    "sum((ezdxf.math.vector.Vector(a)-ezdxf.math.vector.Vector(b)).magnitude  for a, b in zip(e._control_points, e._control_points[1:]))"
   ]
  },
  {
   "cell_type": "code",
   "execution_count": 200,
   "metadata": {},
   "outputs": [],
   "source": [
    "# this is the source of the doubling up index and then odd/even value to denote either which node (front \n",
    "# or back) of the edge, or the direction of the edge.  Recording as this way (rather than [index, bdirection] pairs) \n",
    "# means we have a good way to index into parallel table of other things, in the way that pairs cannot look things up, \n",
    "# even though this is a little less intuitive and clear. In C++ we would have done this as a struct with accessor functions\n",
    "def FPSrlidat(rlends, closedist):\n",
    "    rlidat = [ ]; # index*2 + (front ? 1 : 0[back])\n",
    "    for i in range(len(rlends)*2):\n",
    "        rlidat.append([ ]); # each will be a list of cross connections [d, j]  (these are not pairs of \n",
    "    \n",
    "    closedistSq = closedist*closedist; \n",
    "    for j in range(len(rlends)):\n",
    "        rle = rlends[j]; \n",
    "        pB = rle[0] \n",
    "        jd = rle[1]*2 + (1 if rle[2] else 0);  # encoding the index as *2 + (forward ? 1 : 0)\n",
    "        \n",
    "        # loop through forwards (constrained by beyond the x-direction wider than closedist\n",
    "        j1 = j+1\n",
    "        while ((j1 < len(rlends)) and (rlends[j1][0].x <= pB.x + closedist)):\n",
    "            rle1 = rlends[j1]; \n",
    "            d = rle1[0] - pB;\n",
    "            dClen = d.magnitude; \n",
    "            dCsq = dClen*dClen\n",
    "            if ((dClen <= closedist) and ((rle[1] != rle1[1]) or (rle[3] > closedist))): # { /* avoid connecting short line segment back to self (unless long enough to be a loop) */\n",
    "                jd1 = rle1[1]*2 + (1 if rle1[2] else 0); \n",
    "                rlidat[jd].append([dCsq, jd1]); \n",
    "                rlidat[jd1].append([dCsq, jd]); \n",
    "            j1 += 1\n",
    "\n",
    "    # sort adjacencies at endpoints by distance\n",
    "    for i in range(len(rlidat)):\n",
    "        rlidat[j].sort(); \n",
    "    return rlidat; \n"
   ]
  },
  {
   "cell_type": "code",
   "execution_count": null,
   "metadata": {},
   "outputs": [],
   "source": []
  },
  {
   "cell_type": "code",
   "execution_count": 201,
   "metadata": {},
   "outputs": [],
   "source": [
    "def disconnectJD1(rlidat, jd, jd1): # disconnects the other end of any link we are deleting (usually by popping)\n",
    "    rlid1 = rlidat[jd1]; \n",
    "    #console.log(\"disconjd\", jd, jd1, rlid1.slice()); \n",
    "    d1i = len(rlid1) - 1\n",
    "    while d1i >= 0:\n",
    "        if (rlid1[d1i][1] == jd):\n",
    "            break; \n",
    "        d1i -= 1\n",
    "    d1i += 1\n",
    "    while (d1i < len(rlid1)):\n",
    "        rlid1[d1i-1] = rlid1[d1i]; \n",
    "        d1i += 1\n",
    "    rlid1.pop(); \n"
   ]
  },
  {
   "cell_type": "code",
   "execution_count": 202,
   "metadata": {},
   "outputs": [],
   "source": [
    "def FPSjdseqs(rlidat):\n",
    "    dlistlen = len(rlidat)//2\n",
    "    # extract closed sequences of paths that join up\n",
    "    jdseqs = [ ];  \n",
    "    i = 0; \n",
    "\n",
    "    rlconns = 0; \n",
    "    for j in range(len(rlidat) - 1): \n",
    "        rlconns += len(rlidat[j]); \n",
    "    Dloops = rlconns*2 + dlistlen;  # used to trap infinite loops\n",
    "\n",
    "    # this will only find forward following loops (jd=i*2+1)\n",
    "    while (i < dlistlen):\n",
    "        Dloops -= 1\n",
    "        assert(Dloops >= 0); # catches infinite loops\n",
    "        \n",
    "        # disconnect any endpoint going backwards\n",
    "        if (len(rlidat[i*2]) == 0):\n",
    "            # then disconnect forward links from here\n",
    "            if (len(rlidat[i*2 + 1]) == 0):\n",
    "                i += 1; \n",
    "            else:\n",
    "                jd = i*2 + 1; \n",
    "                while (len(rlidat[jd]) != 0):\n",
    "                    disconnectJD1(rlidat, jd, rlidat[jd].pop()[1]); \n",
    "        # line is an endpoint going forward \n",
    "        elif (len(rlidat[i*2 + 1]) == 0):\n",
    "            jd = i*2; \n",
    "            while (len(rlidat[jd]) != 0):\n",
    "                disconnectJD1(rlidat, jd, rlidat[jd].pop()[1]); \n",
    "            \n",
    "        # not an endpoint going forwards, follow round to see if it forms a loop\n",
    "        else:\n",
    "            jdseq = [ ]; \n",
    "            jd0 = i*2 + 1; \n",
    "            jd = jd0; \n",
    "            while (True):\n",
    "                \n",
    "                # we've chased through and hit an end, take it out\n",
    "                if (len(rlidat[jd]) == 0):\n",
    "                    jdl = jdseq.pop(); \n",
    "                    #print(\"removing jdl\", jdl, jd0); \n",
    "                    disconnectJD1(rlidat, jdl, rlidat[jdl].pop(0)[1]); \n",
    "                    break; \n",
    "                    \n",
    "                # we've exceeded the number of edges possible, so time to quit (and take out the starting point)\n",
    "                elif ((len(jdseq) > dlistlen - i*0) or ((len(jdseq) != 0) and (jdseq[len(jdseq)-1] == jd))):\n",
    "                    #print(\"removing jd0 semiloop\", jd0); \n",
    "                    disconnectJD1(rlidat, jd0, rlidat[jd0].pop(0)[1]); \n",
    "                    break; \n",
    "                    \n",
    "                # this is the part actually continue chasing through the 2-way connections (pretty important but hard)\n",
    "                else:\n",
    "                    jdseq.append(jd); \n",
    "                    jd1 = rlidat[jd][0][1];  # pick closest out of the list here\n",
    "                    \n",
    "                    # (except try to avoid looping back on self if possible)\n",
    "                    if ((len(jdseq) >= 2) and (jdseq[len(jdseq) - 2] == jd1) and (len(rlidat[jd]) >= 2)):\n",
    "                        #print(\"Avoid obvious loop backwards\"); \n",
    "                        jd1 = rlidat[jd][1][1];  # pick second closest out of the list here\n",
    "\n",
    "                    jd = jd1 + (-1 if (jd1%2) == 1 else 1); \n",
    "                    \n",
    "                    # we've looped around to starting point\n",
    "                    if (jd == jd0): \n",
    "                        break; \n",
    "\n",
    "            # got a closed cycle.  Disconnect everything else around it\n",
    "            if (jd == jd0):\n",
    "                #print(\"found cycle\", jdseq); \n",
    "                jdseqs.append(jdseq); \n",
    "                ijd = 0\n",
    "                while (ijd < len(jdseq)):\n",
    "                    jd = jdseq[ijd]; \n",
    "                    while (len(rlidat[jd]) != 0):\n",
    "                        disconnectJD1(rlidat, jd, rlidat[jd].pop()[1]); \n",
    "                    \n",
    "                    jd1 = jd + (-1 if (jd%2) == 1 else 1); \n",
    "                    while (len(rlidat[jd1]) != 0):\n",
    "                        disconnectJD1(rlidat, jd1, rlidat[jd1].pop()[1]); \n",
    "                    ijd += 1\n",
    "                i += 1 \n",
    "    return jdseqs; \n",
    "\n"
   ]
  },
  {
   "cell_type": "code",
   "execution_count": 206,
   "metadata": {},
   "outputs": [
    {
     "name": "stdout",
     "output_type": "stream",
     "text": [
      "[]\n"
     ]
    }
   ],
   "source": [
    "#FPSrlendsPC: function(pencutseqs, etchseqslen) // etchseqslen is the pencuts at the front that are etch numbers\n",
    "def FPSrlendsPC(cuts):\n",
    "    rlends = [ ]; # [ x, y, i, bfore, pathlength ]\n",
    "    for i, e in enumerate(cuts):\n",
    "        l = length(e)\n",
    "        rlends.append([ front(e), i, False, l ]); \n",
    "        rlends.append([ back(e), i, True, l ]); \n",
    "    rlends.sort(); \n",
    "    return rlends; \n",
    "\n",
    "\n",
    "cutlayers = [ \"BSF-CUT-BOTH\" ]\n",
    "dxfcuts = [ ]\n",
    "for e in d.entities:\n",
    "    if e.dxf.layer in cutlayers:\n",
    "        dxfcuts.append(e)\n",
    "\n",
    "\n",
    "# FindClosedPathSequencesD: function(dlist, closedist)\n",
    "#    // create arrays of closest links  (dlist can be padded with nulls to knock out values but retain the indexes)\n",
    "#    var rlends = this.FPSrlends(dlist, dlist.length); // [ x, y, i, bfore, pathlength ]\n",
    "#    var rlidat = this.FPSrlidat(rlends, dlist.length, closedist); \n",
    "#    return this.FPSjdseqs(rlidat, dlist.length); \n",
    "closedist = 0.32\n",
    "rlends = FPSrlendsPC(dxfcuts)\n",
    "rlidat = FPSrlidat(rlends, closedist); \n",
    "jdseqs = FPSjdseqs(rlidat); \n",
    "print(jdseqs)\n",
    "\n"
   ]
  },
  {
   "cell_type": "code",
   "execution_count": null,
   "metadata": {},
   "outputs": [],
   "source": []
  }
 ],
 "metadata": {
  "kernelspec": {
   "display_name": "Python 3 (ipykernel)",
   "language": "python",
   "name": "python3"
  },
  "language_info": {
   "codemirror_mode": {
    "name": "ipython",
    "version": 3
   },
   "file_extension": ".py",
   "mimetype": "text/x-python",
   "name": "python",
   "nbconvert_exporter": "python",
   "pygments_lexer": "ipython3",
   "version": "3.9.6"
  }
 },
 "nbformat": 4,
 "nbformat_minor": 2
}
