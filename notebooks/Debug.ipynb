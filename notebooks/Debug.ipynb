{
 "cells": [
  {
   "cell_type": "code",
   "execution_count": 1,
   "id": "c27e3ba6",
   "metadata": {},
   "outputs": [],
   "source": [
    "import ezdxf\n",
    "from dxfgrouping import filterlayerelements, makemergevertset, linearizeelement\n",
    "from dxfgrouping import getblockcomponent, dxfoutputblocks\n",
    "\n",
    "def convertall(inputfilename, outputfilename, cutlayers, penlayers, breflY, dmax):\n",
    "    d = ezdxf.readfile(inputfilename)\n",
    "    print(\"layerspresent:\", set(e.dxf.layer for e in d.entities))\n",
    "    d = ezdxf.readfile(inputfilename)\n",
    "    lwpolylines = [ e  for e in d.entities  if e.dxftype() == \"LWPOLYLINE\" ]\n",
    "    if lwpolylines:\n",
    "        #print(\"exploding %d lwpolylines\" % len(lwpolylines))\n",
    "        for e in lwpolylines:\n",
    "            e.explode()\n",
    "\n",
    "    cutelements = filterlayerelements(d, cutlayers)\n",
    "    penelements = filterlayerelements(d, penlayers)\n",
    "        \n",
    "    lcutelements, lpenelements = cutelements, penelements\n",
    "    elementgroups = [ ]\n",
    "\n",
    "    while lcutelements:\n",
    "        res = getblockcomponent(lcutelements, lpenelements, dmax)\n",
    "        (outercutelements, outercutelementsdir) = res[0]\n",
    "        (internalcutelements, internalpenelements) = res[1]\n",
    "        (remainingcutelements, remainingpenelements) = res[2]\n",
    "        elementgroups.append((outercutelements, outercutelementsdir, internalcutelements, internalpenelements))\n",
    "        lcutelements, lpenelements = remainingcutelements, remainingpenelements\n",
    "        #print(\"Component: \", len(outercutelements), len(internalcutelements), len(internalpenelements))\n",
    "        \n",
    "    dxfoutputblocks(outputfilename, elementgroups, breflY)\n",
    "    return elementgroups\n"
   ]
  },
  {
   "cell_type": "code",
   "execution_count": 2,
   "id": "95893b2d",
   "metadata": {},
   "outputs": [],
   "source": [
    "import os\n",
    "def createorclear(aamaoutdir, lsubdir):\n",
    "    subdir = os.path.join(aamaoutdir, lsubdir)\n",
    "    if os.path.exists(subdir):\n",
    "        for f in os.listdir(subdir):\n",
    "            os.remove(os.path.join(subdir, f))\n",
    "    else:\n",
    "        os.mkdir(subdir)\n",
    "    return subdir\n",
    "        \n"
   ]
  },
  {
   "cell_type": "code",
   "execution_count": 3,
   "id": "306d25d4-dd49-411a-9d02-afd65ee388b1",
   "metadata": {},
   "outputs": [],
   "source": [
    "aamaoutdir = \"../examples\"\n",
    "dmax = 0.2"
   ]
  },
  {
   "cell_type": "code",
   "execution_count": 4,
   "id": "ea7463e5-9bac-40e9-8b10-ae4eed3814cb",
   "metadata": {},
   "outputs": [],
   "source": [
    "dUS = createorclear(aamaoutdir, \"bottomsurface\")"
   ]
  },
  {
   "cell_type": "code",
   "execution_count": null,
   "id": "a14c610f",
   "metadata": {
    "scrolled": true,
    "tags": []
   },
   "outputs": [
    {
     "name": "stdout",
     "output_type": "stream",
     "text": [
      "layerspresent: {'8', '1-MYLAR', 'CONSTRUCTION', 'PATCH REF', '8-MYLAR', '1', 'HISTORY'}\n",
      "dmaxs-tail:  [0.8466241314292238, 0.8676684823543562, 0.8676684823543562]\n",
      "dmaxs-tail:  [0.8466241314292238, 0.8676684823543562, 0.8676684823543562]\n",
      "dmaxs-tail:  [0.8466241314292238, 0.8676684823543562, 0.8676684823543562]\n",
      "dmaxs-tail:  [0.8466241314292238, 0.8676684823543562, 0.8676684823543562]\n"
     ]
    }
   ],
   "source": [
    "inputfilename = \"../examples/debug.dxf\"\n",
    "cutlayers, penlayers = [\"1\",'11'], ['8']\n",
    "outputfilename = os.path.join(dUS, \"RIOT-BS.dxf\")\n",
    "convertall(inputfilename, outputfilename, cutlayers, penlayers, False, dmax)\n",
    "#outputfilename = os.path.join(dUS, \"RIOT-BS-reflY.dxf\")\n",
    "#convertall(inputfilename, outputfilename, cutlayers, penlayers, True, dmax)\n",
    ";"
   ]
  },
  {
   "cell_type": "code",
   "execution_count": null,
   "id": "32e4a980-7010-42fd-8c7b-edfa8bd0fb39",
   "metadata": {},
   "outputs": [],
   "source": []
  }
 ],
 "metadata": {
  "kernelspec": {
   "display_name": "Python 3 (ipykernel)",
   "language": "python",
   "name": "python3"
  },
  "language_info": {
   "codemirror_mode": {
    "name": "ipython",
    "version": 3
   },
   "file_extension": ".py",
   "mimetype": "text/x-python",
   "name": "python",
   "nbconvert_exporter": "python",
   "pygments_lexer": "ipython3",
   "version": "3.8.12"
  }
 },
 "nbformat": 4,
 "nbformat_minor": 5
}
