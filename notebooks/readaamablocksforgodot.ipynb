{
 "cells": [
  {
   "cell_type": "code",
   "execution_count": 9,
   "id": "24e37505",
   "metadata": {},
   "outputs": [],
   "source": [
    "x = ezdxf.readfile(\"../dxffiles/F15-TSR-TSM-Master-04.dxf\")\n",
    "for i in x.entities:\n",
    "    if i.dxftype() == \"LINE\":\n",
    "        break"
   ]
  },
  {
   "cell_type": "code",
   "execution_count": 36,
   "id": "f12d9d48",
   "metadata": {},
   "outputs": [
    {
     "data": {
      "text/plain": [
       "['AC1009',\n",
       " 'AC1015',\n",
       " 'AC1018',\n",
       " 'AC1021',\n",
       " 'AC1024',\n",
       " 'AC1027',\n",
       " 'AC1032',\n",
       " 'R9',\n",
       " 'R10',\n",
       " 'R12',\n",
       " 'R13',\n",
       " 'R14',\n",
       " 'R2000',\n",
       " 'R2004',\n",
       " 'R2007',\n",
       " 'R2010',\n",
       " 'R2013',\n",
       " 'R2018']"
      ]
     },
     "execution_count": 36,
     "metadata": {},
     "output_type": "execute_result"
    }
   ],
   "source": [
    "ezdxf.document.const.versions_supported_by_new\n",
    "dir(ezdxf.document.const)\n",
    "#ezdxf.document.const.acad_release\n",
    "ezdxf.document.const.versions_supported_by_new+list(ezdxf.document.const.acad_release_to_dxf_version.keys())\n",
    "\n"
   ]
  },
  {
   "cell_type": "code",
   "execution_count": 28,
   "id": "5be3c35c",
   "metadata": {},
   "outputs": [
    {
     "ename": "DXFVersionError",
     "evalue": "Unsupported DXF version \"AC1012\".",
     "output_type": "error",
     "traceback": [
      "\u001b[0;31m---------------------------------------------------------------------------\u001b[0m",
      "\u001b[0;31mDXFVersionError\u001b[0m                           Traceback (most recent call last)",
      "\u001b[0;32m/tmp/nix-shell.OIuR1w/ipykernel_142200/767434159.py\u001b[0m in \u001b[0;36m<module>\u001b[0;34m\u001b[0m\n\u001b[0;32m----> 1\u001b[0;31m \u001b[0mezdxf\u001b[0m\u001b[0;34m.\u001b[0m\u001b[0mnew\u001b[0m\u001b[0;34m(\u001b[0m\u001b[0;34m\"R13\"\u001b[0m\u001b[0;34m)\u001b[0m\u001b[0;34m\u001b[0m\u001b[0;34m\u001b[0m\u001b[0m\n\u001b[0m",
      "\u001b[0;32m/nix/store/0kxnm72z6g6hvbghjspn693c515jhy35-python3.9-ezdxf-0.17/lib/python3.9/site-packages/ezdxf/filemanagement.py\u001b[0m in \u001b[0;36mnew\u001b[0;34m(dxfversion, setup, units)\u001b[0m\n\u001b[1;32m     59\u001b[0m \u001b[0;34m\u001b[0m\u001b[0m\n\u001b[1;32m     60\u001b[0m     \"\"\"\n\u001b[0;32m---> 61\u001b[0;31m     \u001b[0mdoc\u001b[0m \u001b[0;34m=\u001b[0m \u001b[0mDrawing\u001b[0m\u001b[0;34m.\u001b[0m\u001b[0mnew\u001b[0m\u001b[0;34m(\u001b[0m\u001b[0mdxfversion\u001b[0m\u001b[0;34m)\u001b[0m\u001b[0;34m\u001b[0m\u001b[0;34m\u001b[0m\u001b[0m\n\u001b[0m\u001b[1;32m     62\u001b[0m     \u001b[0mdoc\u001b[0m\u001b[0;34m.\u001b[0m\u001b[0munits\u001b[0m \u001b[0;34m=\u001b[0m \u001b[0munits\u001b[0m\u001b[0;34m\u001b[0m\u001b[0;34m\u001b[0m\u001b[0m\n\u001b[1;32m     63\u001b[0m     \u001b[0mdoc\u001b[0m\u001b[0;34m.\u001b[0m\u001b[0mheader\u001b[0m\u001b[0;34m[\u001b[0m\u001b[0;34m\"$MEASUREMENT\"\u001b[0m\u001b[0;34m]\u001b[0m \u001b[0;34m=\u001b[0m \u001b[0;36m0\u001b[0m \u001b[0;32mif\u001b[0m \u001b[0munits\u001b[0m \u001b[0;32min\u001b[0m \u001b[0;34m(\u001b[0m\u001b[0;36m1\u001b[0m\u001b[0;34m,\u001b[0m \u001b[0;36m2\u001b[0m\u001b[0;34m,\u001b[0m \u001b[0;36m3\u001b[0m\u001b[0;34m,\u001b[0m \u001b[0;36m8\u001b[0m\u001b[0;34m,\u001b[0m \u001b[0;36m9\u001b[0m\u001b[0;34m,\u001b[0m \u001b[0;36m10\u001b[0m\u001b[0;34m)\u001b[0m \u001b[0;32melse\u001b[0m \u001b[0;36m1\u001b[0m\u001b[0;34m\u001b[0m\u001b[0;34m\u001b[0m\u001b[0m\n",
      "\u001b[0;32m/nix/store/0kxnm72z6g6hvbghjspn693c515jhy35-python3.9-ezdxf-0.17/lib/python3.9/site-packages/ezdxf/document.py\u001b[0m in \u001b[0;36mnew\u001b[0;34m(cls, dxfversion)\u001b[0m\n\u001b[1;32m    178\u001b[0m         \u001b[0;34m:\u001b[0m\u001b[0mfunc\u001b[0m\u001b[0;34m:\u001b[0m\u001b[0;31m`\u001b[0m\u001b[0mezdxf\u001b[0m\u001b[0;34m.\u001b[0m\u001b[0mnew\u001b[0m\u001b[0;31m`\u001b[0m\u001b[0;34m.\u001b[0m \u001b[0;34m(\u001b[0m\u001b[0minternal\u001b[0m \u001b[0mAPI\u001b[0m\u001b[0;34m)\u001b[0m\u001b[0;34m\u001b[0m\u001b[0;34m\u001b[0m\u001b[0m\n\u001b[1;32m    179\u001b[0m         \"\"\"\n\u001b[0;32m--> 180\u001b[0;31m         \u001b[0mdoc\u001b[0m \u001b[0;34m=\u001b[0m \u001b[0mcls\u001b[0m\u001b[0;34m(\u001b[0m\u001b[0mdxfversion\u001b[0m\u001b[0;34m)\u001b[0m\u001b[0;34m\u001b[0m\u001b[0;34m\u001b[0m\u001b[0m\n\u001b[0m\u001b[1;32m    181\u001b[0m         \u001b[0mdoc\u001b[0m\u001b[0;34m.\u001b[0m\u001b[0m_setup\u001b[0m\u001b[0;34m(\u001b[0m\u001b[0;34m)\u001b[0m\u001b[0;34m\u001b[0m\u001b[0;34m\u001b[0m\u001b[0m\n\u001b[1;32m    182\u001b[0m         \u001b[0mdoc\u001b[0m\u001b[0;34m.\u001b[0m\u001b[0m_create_ezdxf_metadata\u001b[0m\u001b[0;34m(\u001b[0m\u001b[0;34m)\u001b[0m\u001b[0;34m\u001b[0m\u001b[0;34m\u001b[0m\u001b[0m\n",
      "\u001b[0;32m/nix/store/0kxnm72z6g6hvbghjspn693c515jhy35-python3.9-ezdxf-0.17/lib/python3.9/site-packages/ezdxf/document.py\u001b[0m in \u001b[0;36m__init__\u001b[0;34m(self, dxfversion)\u001b[0m\n\u001b[1;32m    118\u001b[0m         )\n\u001b[1;32m    119\u001b[0m         \u001b[0;32mif\u001b[0m \u001b[0mself\u001b[0m\u001b[0;34m.\u001b[0m\u001b[0m_dxfversion\u001b[0m \u001b[0;32mnot\u001b[0m \u001b[0;32min\u001b[0m \u001b[0mconst\u001b[0m\u001b[0;34m.\u001b[0m\u001b[0mversions_supported_by_new\u001b[0m\u001b[0;34m:\u001b[0m\u001b[0;34m\u001b[0m\u001b[0;34m\u001b[0m\u001b[0m\n\u001b[0;32m--> 120\u001b[0;31m             raise const.DXFVersionError(\n\u001b[0m\u001b[1;32m    121\u001b[0m                 \u001b[0;34mf'Unsupported DXF version \"{self.dxfversion}\".'\u001b[0m\u001b[0;34m\u001b[0m\u001b[0;34m\u001b[0m\u001b[0m\n\u001b[1;32m    122\u001b[0m             )\n",
      "\u001b[0;31mDXFVersionError\u001b[0m: Unsupported DXF version \"AC1012\"."
     ]
    }
   ],
   "source": [
    "ezdxf.new(\"R13\")"
   ]
  },
  {
   "cell_type": "code",
   "execution_count": 21,
   "id": "d255977e",
   "metadata": {},
   "outputs": [
    {
     "name": "stdout",
     "output_type": "stream",
     "text": [
      "Help on function new in module ezdxf.filemanagement:\n",
      "\n",
      "new(dxfversion: str = 'AC1027', setup: Union[str, bool, Sequence[str]] = False, units: int = 6) -> 'Drawing'\n",
      "    Create a new :class:`~ezdxf.drawing.Drawing` from scratch, `dxfversion`\n",
      "    can be either \"AC1009\" the official DXF version name or \"R12\" the\n",
      "    AutoCAD release name.\n",
      "    \n",
      "    :func:`new` can create drawings for following DXF versions:\n",
      "    \n",
      "    ======= ========================\n",
      "    Version AutoCAD Release\n",
      "    ======= ========================\n",
      "    AC1009  AutoCAD R12\n",
      "    AC1015  AutoCAD R2000\n",
      "    AC1018  AutoCAD R2004\n",
      "    AC1021  AutoCAD R2007\n",
      "    AC1024  AutoCAD R2010\n",
      "    AC1027  AutoCAD R2013\n",
      "    AC1032  AutoCAD R2018\n",
      "    ======= ========================\n",
      "    \n",
      "    The `units` argument defines th document and modelspace units. The header\n",
      "    variable $MEASUREMENT will be set according to the given `units`, 0 for\n",
      "    inch, feet, miles, ... and 1 for metric units. For more information go to\n",
      "    module :mod:`ezdxf.units`\n",
      "    \n",
      "    Args:\n",
      "        dxfversion: DXF version specifier as string, default is \"AC1027\"\n",
      "            respectively \"R2013\"\n",
      "        setup: setup default styles, ``False`` for no setup,\n",
      "            ``True`` to setup everything or a list of topics as strings,\n",
      "            e.g. [\"linetypes\", \"styles\"] to setup only some topics:\n",
      "    \n",
      "            ================== ========================================\n",
      "            Topic              Description\n",
      "            ================== ========================================\n",
      "            linetypes          setup line types\n",
      "            styles             setup text styles\n",
      "            dimstyles          setup default `ezdxf` dimension styles\n",
      "            visualstyles       setup 25 standard visual styles\n",
      "            ================== ========================================\n",
      "        units: document and modelspace units, default is 6 for meters\n",
      "\n"
     ]
    }
   ],
   "source": [
    "help(ezdxf.new)"
   ]
  },
  {
   "cell_type": "code",
   "execution_count": 17,
   "id": "1b6a820f",
   "metadata": {},
   "outputs": [
    {
     "data": {
      "text/plain": [
       "['__class__',\n",
       " '__deepcopy__',\n",
       " '__delattr__',\n",
       " '__dict__',\n",
       " '__dir__',\n",
       " '__doc__',\n",
       " '__eq__',\n",
       " '__format__',\n",
       " '__ge__',\n",
       " '__getattr__',\n",
       " '__getattribute__',\n",
       " '__gt__',\n",
       " '__hash__',\n",
       " '__init__',\n",
       " '__init_subclass__',\n",
       " '__le__',\n",
       " '__lt__',\n",
       " '__module__',\n",
       " '__ne__',\n",
       " '__new__',\n",
       " '__reduce__',\n",
       " '__reduce_ex__',\n",
       " '__repr__',\n",
       " '__setattr__',\n",
       " '__sizeof__',\n",
       " '__str__',\n",
       " '__subclasshook__',\n",
       " '__weakref__',\n",
       " '_entity',\n",
       " '_export_dxf_attribute_optional',\n",
       " 'all_existing_dxf_attribs',\n",
       " 'color',\n",
       " 'copy',\n",
       " 'discard',\n",
       " 'dxf_default_value',\n",
       " 'dxfattribs',\n",
       " 'dxftype',\n",
       " 'end',\n",
       " 'export_dxf_attribs',\n",
       " 'get',\n",
       " 'get_default',\n",
       " 'handle',\n",
       " 'hasattr',\n",
       " 'is_supported',\n",
       " 'layer',\n",
       " 'linetype',\n",
       " 'lineweight',\n",
       " 'owner',\n",
       " 'reset_handles',\n",
       " 'rewire',\n",
       " 'set',\n",
       " 'start',\n",
       " 'unprotected_set',\n",
       " 'update']"
      ]
     },
     "execution_count": 17,
     "metadata": {},
     "output_type": "execute_result"
    }
   ],
   "source": [
    "\n",
    "dir(i.dxf)"
   ]
  },
  {
   "cell_type": "code",
   "execution_count": 15,
   "id": "40744d71",
   "metadata": {},
   "outputs": [
    {
     "data": {
      "text/plain": [
       "Vec3(6.123233995736766e-17, 1.0, 0.0)"
      ]
     },
     "execution_count": 15,
     "metadata": {},
     "output_type": "execute_result"
    }
   ],
   "source": [
    "ezdxf.math.Vec3.from_deg_angle(90)"
   ]
  },
  {
   "cell_type": "code",
   "execution_count": 9,
   "id": "8c15b009",
   "metadata": {},
   "outputs": [],
   "source": [
    "import os, ezdxf\n",
    "\n",
    "# possibly merge all the 170color files into one (instead of by directory)\n",
    "dfiles = \"../dxffiles/aamaout/170color\"\n",
    "dfs = [ ]\n",
    "for f in os.listdir(dfiles):\n",
    "    if f[0] != \"#\" and f[0] != \"p\" and os.path.splitext(f)[1] == \".dxf\":\n",
    "        df = os.path.join(dfiles, f)\n",
    "        dfs.append(df)"
   ]
  },
  {
   "cell_type": "code",
   "execution_count": 12,
   "id": "1fb657fb",
   "metadata": {},
   "outputs": [],
   "source": [
    "from dxfgrouping import linearizeelement\n",
    "import json\n",
    "\n",
    "js = [ ]\n",
    "for df in dfs:\n",
    "    d = ezdxf.readfile(df)\n",
    "    for b in d.entities:\n",
    "        assert b.dxftype() == \"INSERT\"\n",
    "        j = { \"blockname\":b.dxf.name, \"blockrotation\":b.dxf.rotation, \"blockposition\":list(b.dxf.insert)[:2] }\n",
    "        bb = d.blocks[b.dxf.name]\n",
    "        outercut = bb.entity_space.entities[0]\n",
    "        assert outercut.dxftype() == \"POLYLINE\"\n",
    "        assert outercut.dxf.layer == \"1\"\n",
    "        outercontour = [ list(v.dxf.location)[:2]  for v in outercut.vertices ]\n",
    "        assert outercontour[0] == outercontour[-1]\n",
    "        j[\"outercontour\"] = outercontour\n",
    "        innerlines = [ ]\n",
    "        for e in bb.entity_space.entities[1:]:\n",
    "            innerlines.append([ list(p)[:2]  for p in linearizeelement(e) ])\n",
    "        j[\"innerlines\"] = innerlines\n",
    "        js.append(j)\n",
    "        "
   ]
  },
  {
   "cell_type": "code",
   "execution_count": 14,
   "id": "d7fe87a9",
   "metadata": {},
   "outputs": [],
   "source": [
    "json.dump(js, open(os.path.join(dfiles, \"shapes.json\"), \"w\"))"
   ]
  },
  {
   "cell_type": "code",
   "execution_count": null,
   "id": "481b6b30",
   "metadata": {},
   "outputs": [],
   "source": []
  },
  {
   "cell_type": "code",
   "execution_count": null,
   "id": "ce7c7aaa",
   "metadata": {},
   "outputs": [],
   "source": []
  },
  {
   "cell_type": "code",
   "execution_count": 35,
   "id": "9d6e2eb4",
   "metadata": {},
   "outputs": [],
   "source": [
    "jps = json.load(open(os.path.join(dfiles, \"positions.json\"), \"r\"))\n",
    "outputfilename = os.path.join(dfiles, \"positions.dxf\")\n",
    "doc = ezdxf.new('R12')\n",
    "msp = doc.modelspace()\n",
    "aamacutlayer = doc.layers.new(\"1\", {\"color\":1})\n",
    "aamadrawlayer = doc.layers.new(\"8\", {\"color\":4})\n",
    "aamaintcutlayer = doc.layers.new(\"11\", {\"color\":3})\n",
    "for df in dfs:\n",
    "    d = ezdxf.readfile(df)\n",
    "    for b in d.entities:\n",
    "        assert b.dxftype() == \"INSERT\"\n",
    "        bb = d.blocks[b.dxf.name]\n",
    "        block = doc.blocks.new(name=b.dxf.name)\n",
    "        for e in bb.entity_space.entities:\n",
    "            block.add_foreign_entity(e)\n",
    "        bp = jps[b.dxf.name]\n",
    "        dxfattribs = {'rotation':bp[2], 'linetype':'BYLAYER' }\n",
    "        msp.add_blockref(b.dxf.name, ezdxf.math.vector.Vector(bp[0], bp[1], 0), dxfattribs=dxfattribs)\n",
    "        \n",
    "    doc.set_modelspace_vport(height=2300, center=(1800, 900))\n",
    "    doc.saveas(outputfilename)\n"
   ]
  },
  {
   "cell_type": "code",
   "execution_count": null,
   "id": "40b10ad9",
   "metadata": {},
   "outputs": [],
   "source": []
  }
 ],
 "metadata": {
  "kernelspec": {
   "display_name": "Python 3 (ipykernel)",
   "language": "python",
   "name": "python3"
  },
  "language_info": {
   "codemirror_mode": {
    "name": "ipython",
    "version": 3
   },
   "file_extension": ".py",
   "mimetype": "text/x-python",
   "name": "python",
   "nbconvert_exporter": "python",
   "pygments_lexer": "ipython3",
   "version": "3.9.6"
  }
 },
 "nbformat": 4,
 "nbformat_minor": 5
}
