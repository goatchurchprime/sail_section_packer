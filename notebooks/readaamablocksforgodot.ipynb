{
 "cells": [
  {
   "cell_type": "code",
   "execution_count": 9,
   "id": "eff14a73",
   "metadata": {},
   "outputs": [],
   "source": [
    "x = ezdxf.readfile(\"../dxffiles/F15-TSR-TSM-Master-04.dxf\")\n",
    "for i in x.entities:\n",
    "    if i.dxftype() == \"LINE\":\n",
    "        break"
   ]
  },
  {
   "cell_type": "code",
   "execution_count": 12,
   "id": "d0564811",
   "metadata": {},
   "outputs": [
    {
     "data": {
      "text/plain": [
       "Vec3(2131.60765277183, -675.4527248821383, 0.0)"
      ]
     },
     "execution_count": 12,
     "metadata": {},
     "output_type": "execute_result"
    }
   ],
   "source": [
    "i.dxf.start"
   ]
  },
  {
   "cell_type": "code",
   "execution_count": 15,
   "id": "c8d791bb",
   "metadata": {},
   "outputs": [
    {
     "data": {
      "text/plain": [
       "Vec3(6.123233995736766e-17, 1.0, 0.0)"
      ]
     },
     "execution_count": 15,
     "metadata": {},
     "output_type": "execute_result"
    }
   ],
   "source": [
    "ezdxf.math.Vec3.from_deg_angle(90)"
   ]
  },
  {
   "cell_type": "code",
   "execution_count": 9,
   "id": "8c15b009",
   "metadata": {},
   "outputs": [],
   "source": [
    "import os, ezdxf\n",
    "\n",
    "# possibly merge all the 170color files into one (instead of by directory)\n",
    "dfiles = \"../dxffiles/aamaout/170color\"\n",
    "dfs = [ ]\n",
    "for f in os.listdir(dfiles):\n",
    "    if f[0] != \"#\" and f[0] != \"p\" and os.path.splitext(f)[1] == \".dxf\":\n",
    "        df = os.path.join(dfiles, f)\n",
    "        dfs.append(df)"
   ]
  },
  {
   "cell_type": "code",
   "execution_count": 12,
   "id": "1fb657fb",
   "metadata": {},
   "outputs": [],
   "source": [
    "from dxfgrouping import linearizeelement\n",
    "import json\n",
    "\n",
    "js = [ ]\n",
    "for df in dfs:\n",
    "    d = ezdxf.readfile(df)\n",
    "    for b in d.entities:\n",
    "        assert b.dxftype() == \"INSERT\"\n",
    "        j = { \"blockname\":b.dxf.name, \"blockrotation\":b.dxf.rotation, \"blockposition\":list(b.dxf.insert)[:2] }\n",
    "        bb = d.blocks[b.dxf.name]\n",
    "        outercut = bb.entity_space.entities[0]\n",
    "        assert outercut.dxftype() == \"POLYLINE\"\n",
    "        assert outercut.dxf.layer == \"1\"\n",
    "        outercontour = [ list(v.dxf.location)[:2]  for v in outercut.vertices ]\n",
    "        assert outercontour[0] == outercontour[-1]\n",
    "        j[\"outercontour\"] = outercontour\n",
    "        innerlines = [ ]\n",
    "        for e in bb.entity_space.entities[1:]:\n",
    "            innerlines.append([ list(p)[:2]  for p in linearizeelement(e) ])\n",
    "        j[\"innerlines\"] = innerlines\n",
    "        js.append(j)\n",
    "        "
   ]
  },
  {
   "cell_type": "code",
   "execution_count": 14,
   "id": "d7fe87a9",
   "metadata": {},
   "outputs": [],
   "source": [
    "json.dump(js, open(os.path.join(dfiles, \"shapes.json\"), \"w\"))"
   ]
  },
  {
   "cell_type": "code",
   "execution_count": null,
   "id": "481b6b30",
   "metadata": {},
   "outputs": [],
   "source": []
  },
  {
   "cell_type": "code",
   "execution_count": null,
   "id": "ce7c7aaa",
   "metadata": {},
   "outputs": [],
   "source": []
  },
  {
   "cell_type": "code",
   "execution_count": 35,
   "id": "9d6e2eb4",
   "metadata": {},
   "outputs": [],
   "source": [
    "jps = json.load(open(os.path.join(dfiles, \"positions.json\"), \"r\"))\n",
    "outputfilename = os.path.join(dfiles, \"positions.dxf\")\n",
    "doc = ezdxf.new('R12')\n",
    "msp = doc.modelspace()\n",
    "aamacutlayer = doc.layers.new(\"1\", {\"color\":1})\n",
    "aamadrawlayer = doc.layers.new(\"8\", {\"color\":4})\n",
    "aamaintcutlayer = doc.layers.new(\"11\", {\"color\":3})\n",
    "for df in dfs:\n",
    "    d = ezdxf.readfile(df)\n",
    "    for b in d.entities:\n",
    "        assert b.dxftype() == \"INSERT\"\n",
    "        bb = d.blocks[b.dxf.name]\n",
    "        block = doc.blocks.new(name=b.dxf.name)\n",
    "        for e in bb.entity_space.entities:\n",
    "            block.add_foreign_entity(e)\n",
    "        bp = jps[b.dxf.name]\n",
    "        dxfattribs = {'rotation':bp[2], 'linetype':'BYLAYER' }\n",
    "        msp.add_blockref(b.dxf.name, ezdxf.math.vector.Vector(bp[0], bp[1], 0), dxfattribs=dxfattribs)\n",
    "        \n",
    "    doc.set_modelspace_vport(height=2300, center=(1800, 900))\n",
    "    doc.saveas(outputfilename)\n"
   ]
  },
  {
   "cell_type": "code",
   "execution_count": null,
   "id": "40b10ad9",
   "metadata": {},
   "outputs": [],
   "source": []
  }
 ],
 "metadata": {
  "kernelspec": {
   "display_name": "Python 3 (ipykernel)",
   "language": "python",
   "name": "python3"
  },
  "language_info": {
   "codemirror_mode": {
    "name": "ipython",
    "version": 3
   },
   "file_extension": ".py",
   "mimetype": "text/x-python",
   "name": "python",
   "nbconvert_exporter": "python",
   "pygments_lexer": "ipython3",
   "version": "3.9.6"
  }
 },
 "nbformat": 4,
 "nbformat_minor": 5
}
