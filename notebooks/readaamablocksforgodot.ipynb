{
 "cells": [
  {
   "cell_type": "code",
   "execution_count": 67,
   "id": "bb4cd03a",
   "metadata": {},
   "outputs": [],
   "source": [
    "import os, ezdxf\n",
    "\n",
    "# possibly merge all the 170color files into one (instead of by directory)\n",
    "dfiles = \"../dxffiles/aamaout/170color\"\n",
    "fnames = [ ]\n",
    "for f in os.listdir(dfiles):\n",
    "    if f[0] != \"#\" and os.path.splitext(f)[1] == \".dxf\":\n",
    "        df = os.path.join(dfiles, f)\n",
    "        break\n"
   ]
  },
  {
   "cell_type": "code",
   "execution_count": 71,
   "id": "cb92eacd",
   "metadata": {},
   "outputs": [
    {
     "data": {
      "text/plain": [
       "'../dxffiles/aamaout/170color/F15-PATCH-reflY.dxf'"
      ]
     },
     "execution_count": 71,
     "metadata": {},
     "output_type": "execute_result"
    }
   ],
   "source": [
    "df"
   ]
  },
  {
   "cell_type": "code",
   "execution_count": 72,
   "id": "6530eace",
   "metadata": {},
   "outputs": [
    {
     "name": "stdout",
     "output_type": "stream",
     "text": [
      "INSERT(#3A)\n",
      "POLYLINE(#33)\n",
      "[-162.61665759432577, -50.45132053150337]\n",
      "INSERT(#46)\n",
      "POLYLINE(#3F)\n",
      "[-178.2299548252236, -78.96695026238962]\n",
      "INSERT(#74)\n",
      "POLYLINE(#4B)\n",
      "[-153.27087017515498, -140.8217938921032]\n",
      "INSERT(#8E)\n",
      "POLYLINE(#79)\n",
      "[-102.7328065658844, -75.3838990850956]\n",
      "INSERT(#BE)\n",
      "POLYLINE(#93)\n",
      "[-210.94959754855427, -287.5523371991735]\n",
      "INSERT(#FD)\n",
      "POLYLINE(#C3)\n",
      "[-296.2319295816359, -102.94939675445994]\n",
      "INSERT(#108)\n",
      "POLYLINE(#102)\n",
      "[1.018468352495347, -80.69980836589002]\n",
      "INSERT(#121)\n",
      "POLYLINE(#10D)\n",
      "[-109.89605712035882, 50.02688119198956]\n",
      "INSERT(#12C)\n",
      "POLYLINE(#126)\n",
      "[1.018468352497166, -80.69980836589048]\n",
      "INSERT(#145)\n",
      "POLYLINE(#131)\n",
      "[-109.89324169032625, 48.30115279109077]\n",
      "INSERT(#15E)\n",
      "POLYLINE(#14A)\n",
      "[-109.84447981302537, 46.03660660312926]\n",
      "INSERT(#1B5)\n",
      "POLYLINE(#163)\n",
      "[-575.9006577771861, 89.15411067450577]\n",
      "INSERT(#1C6)\n",
      "POLYLINE(#1BA)\n",
      "[-71.21840305784917, -255.43667925398995]\n",
      "INSERT(#1DF)\n",
      "POLYLINE(#1CB)\n",
      "[-109.7825814840935, 44.25202284509351]\n",
      "INSERT(#1F8)\n",
      "POLYLINE(#1E4)\n",
      "[-101.12566414435878, 43.25406234118327]\n",
      "INSERT(#214)\n",
      "POLYLINE(#1FD)\n",
      "[37.093710516640385, -84.05491665735371]\n"
     ]
    }
   ],
   "source": [
    "from dxfgrouping import linearizeelement\n",
    "import json\n",
    "\n",
    "d = ezdxf.readfile(df)\n",
    "js = [ ]\n",
    "for b in d.entities:\n",
    "    assert b.dxftype() == \"INSERT\"\n",
    "    j = { \"blockname\":b.dxf.name, \"blockrotation\":b.dxf.rotation, \"blockposition\":list(b.dxf.insert)[:2] }\n",
    "    bb = d.blocks[b.dxf.name]\n",
    "    outercut = bb.entity_space.entities[0]\n",
    "    assert outercut.dxftype() == \"POLYLINE\"\n",
    "    assert outercut.dxf.layer == \"1\"\n",
    "    outercontour = [ list(v.dxf.location)[:2]  for v in outercut.vertices ]\n",
    "    assert outercontour[0] == outercontour[-1]\n",
    "    j[\"outercontour\"] = outercontour\n",
    "    innerlines = [ ]\n",
    "    for e in bb.entity_space.entities[1:]:\n",
    "        innerlines.append([ list(p)[:2]  for p in linearizeelement(e) ])\n",
    "    j[\"innerlines\"] = innerlines\n",
    "    js.append(j)\n",
    "    "
   ]
  },
  {
   "cell_type": "code",
   "execution_count": 73,
   "id": "2b5950bd",
   "metadata": {},
   "outputs": [],
   "source": [
    "json.dump(js, open(os.path.join(dfiles, \"shapes.json\"), \"w\"))"
   ]
  },
  {
   "cell_type": "code",
   "execution_count": null,
   "id": "2393a559",
   "metadata": {},
   "outputs": [],
   "source": []
  }
 ],
 "metadata": {
  "kernelspec": {
   "display_name": "Python 3 (ipykernel)",
   "language": "python",
   "name": "python3"
  },
  "language_info": {
   "codemirror_mode": {
    "name": "ipython",
    "version": 3
   },
   "file_extension": ".py",
   "mimetype": "text/x-python",
   "name": "python",
   "nbconvert_exporter": "python",
   "pygments_lexer": "ipython3",
   "version": "3.9.6"
  }
 },
 "nbformat": 4,
 "nbformat_minor": 5
}
