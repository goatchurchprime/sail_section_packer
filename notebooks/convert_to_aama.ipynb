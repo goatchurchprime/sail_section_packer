{
 "cells": [
  {
   "cell_type": "code",
   "execution_count": 1,
   "id": "482647e2",
   "metadata": {},
   "outputs": [],
   "source": [
    "#\n",
    "# Process-- we are going to first make a script that can convert from a given source DXF into \n",
    "# a DXF-AAMA file with just those blocks and entities selected and ordered\n",
    "#\n",
    "# Should be able to send these files to the cutter as-is for verification (and potentially their layout)\n",
    "#\n",
    "# Subsequent process to pull these files in and reposition them ourselves with a combined new layout\n",
    "#"
   ]
  },
  {
   "cell_type": "code",
   "execution_count": 1,
   "id": "9e1fca11",
   "metadata": {},
   "outputs": [
    {
     "name": "stdout",
     "output_type": "stream",
     "text": [
      "layerspresent: {'TSR-144-PLOT', 'PATCH-PLOT', 'TSM-144-CUT', 'TSM-150-CUT', 'TSM-150-PLOT', '0', 'CONSTRUCTION', 'TSR-150-CUT', 'TSR-144-CUT', 'TSM-144-PLOT', 'REFERENCE', 'HISTORY', 'TSR-150-PLOT', 'PATCH-CUT'}\n"
     ]
    }
   ],
   "source": [
    "# Inputs for converting a single file\n",
    "inputfilename = \"../dxffiles/P-E-13,5-BS-Master-09.dxf\"\n",
    "inputfilename = \"../dxffiles/F15-BS-01.dxf\"\n",
    "inputfilename = \"../dxffiles/F15-TSF-Master-04.dxf\"\n",
    "inputfilename = \"../dxffiles/F15-TSR-TSM-Master-04.dxf\"\n",
    "\n",
    "dmax = 0.2\n",
    "cutlayers, penlayers = [\"BSF-CUT-BOTH\"], ['BSF-PLOT-PUMA']\n",
    "cutlayers, penlayers = [\"BSR-CUT-PUMA\"], ['BSR-PLOT-PUMA']\n",
    "cutlayers, penlayers = ['TSF-CUT'], ['TSF-PLOT']\n",
    "cutlayers, penlayers = ['PATCH-NORM-CUT'], ['PATCH-NORM-PLOT']\n",
    "cutlayers, penlayers = ['MYLAR-CUT'], []\n",
    "cutlayers, penlayers = ['TSR-144-CUT'], ['TSR-144-PLOT']\n",
    "cutlayers, penlayers = ['PATCH-CUT'], ['PATCH-PLOT']\n",
    "\n",
    "#cutlayers, penlayers = [\"BSM-CUT-BOTH\"], ['BSM-PLOT-PUMA']\n",
    "#cutlayers, penlayers = [\"PATCH-OUTSIDE\", \"PATCH-INSIDE\", \"PATCH-MYLAR\"], [ ]\n",
    "outputfilename = \"../dxffiles/aamaout/F15-TSF-TSM.dxf\"\n",
    "#outputfilename = \"../dxffiles/aamaout/PATCHES.dxf\"\n",
    "\n",
    "import ezdxf\n",
    "d = ezdxf.readfile(inputfilename)\n",
    "print(\"layerspresent:\", set(e.dxf.layer for e in d.entities))\n",
    "\n",
    "d = ezdxf.readfile(inputfilename)\n",
    "lwpolylines = [ e  for e in d.entities  if e.dxftype() == \"LWPOLYLINE\" ]\n",
    "if lwpolylines:\n",
    "    print(\"exploding %d lwpolylines\" % len(lwpolylines))\n",
    "    for e in lwpolylines:\n",
    "        e.explode()\n"
   ]
  },
  {
   "cell_type": "code",
   "execution_count": 2,
   "id": "78fe0d2c",
   "metadata": {},
   "outputs": [],
   "source": [
    "import ezdxf\n",
    "from dxfgrouping import filterlayerelements, makemergevertset, linearizeelement\n",
    "\n",
    "cutelements = filterlayerelements(d, cutlayers)\n",
    "penelements = filterlayerelements(d, penlayers)\n"
   ]
  },
  {
   "cell_type": "code",
   "execution_count": 75,
   "id": "f76b6a5f",
   "metadata": {},
   "outputs": [
    {
     "ename": "TypeError",
     "evalue": "unsupported operand type(s) for -: 'array.array' and 'float'",
     "output_type": "error",
     "traceback": [
      "\u001b[0;31m---------------------------------------------------------------------------\u001b[0m",
      "\u001b[0;31mTypeError\u001b[0m                                 Traceback (most recent call last)",
      "\u001b[0;32m/tmp/ipykernel_711448/1146857355.py\u001b[0m in \u001b[0;36m<module>\u001b[0;34m\u001b[0m\n\u001b[1;32m      1\u001b[0m \u001b[0ms\u001b[0m \u001b[0;34m=\u001b[0m \u001b[0;34m[\u001b[0m\u001b[0me\u001b[0m  \u001b[0;32mfor\u001b[0m \u001b[0me\u001b[0m \u001b[0;32min\u001b[0m \u001b[0mcutelements\u001b[0m  \u001b[0;32mif\u001b[0m \u001b[0me\u001b[0m\u001b[0;34m.\u001b[0m\u001b[0mdxftype\u001b[0m\u001b[0;34m(\u001b[0m\u001b[0;34m)\u001b[0m \u001b[0;34m==\u001b[0m \u001b[0;34m\"SPLINE\"\u001b[0m \u001b[0;34m]\u001b[0m\u001b[0;34m\u001b[0m\u001b[0;34m\u001b[0m\u001b[0m\n\u001b[1;32m      2\u001b[0m \u001b[0;32mfor\u001b[0m \u001b[0ml\u001b[0m \u001b[0;32min\u001b[0m \u001b[0ms\u001b[0m\u001b[0;34m:\u001b[0m\u001b[0;34m\u001b[0m\u001b[0;34m\u001b[0m\u001b[0m\n\u001b[0;32m----> 3\u001b[0;31m     \u001b[0mprint\u001b[0m\u001b[0;34m(\u001b[0m\u001b[0ml\u001b[0m\u001b[0;34m.\u001b[0m\u001b[0mknots\u001b[0m \u001b[0;34m-\u001b[0m \u001b[0ml\u001b[0m\u001b[0;34m.\u001b[0m\u001b[0mknots\u001b[0m\u001b[0;34m[\u001b[0m\u001b[0;36m0\u001b[0m\u001b[0;34m]\u001b[0m\u001b[0;34m)\u001b[0m\u001b[0;34m\u001b[0m\u001b[0;34m\u001b[0m\u001b[0m\n\u001b[0m\u001b[1;32m      4\u001b[0m \u001b[0;31m#ps = linearizeelement(s[1])\u001b[0m\u001b[0;34m\u001b[0m\u001b[0;34m\u001b[0m\u001b[0;34m\u001b[0m\u001b[0m\n\u001b[1;32m      5\u001b[0m \u001b[0;31m#plt.plot([p.x  for p in ps], [p.y  for p in ps], color=c)\u001b[0m\u001b[0;34m\u001b[0m\u001b[0;34m\u001b[0m\u001b[0;34m\u001b[0m\u001b[0m\n",
      "\u001b[0;31mTypeError\u001b[0m: unsupported operand type(s) for -: 'array.array' and 'float'"
     ]
    }
   ],
   "source": [
    "s = [e  for e in cutelements  if e.dxftype() == \"SPLINE\" ]\n",
    "for l in s:\n",
    "    print(l.knots)\n",
    "#ps = linearizeelement(s[1])\n",
    "#plt.plot([p.x  for p in ps], [p.y  for p in ps], color=c)\n"
   ]
  },
  {
   "cell_type": "code",
   "execution_count": 63,
   "id": "beabd334",
   "metadata": {},
   "outputs": [
    {
     "data": {
      "text/plain": [
       "[(4957.418247531769, -2579.798402875387, 0.0),\n",
       " (4936.462581495384, -2577.650858980297, 0.0),\n",
       " (4915.487999172654, -2575.509676557712, 0.0),\n",
       " (4845.078669766443, -2568.507768713401, 0.0),\n",
       " (4795.55195415239, -2563.888673469142, 0.0),\n",
       " (4725.985392571411, -2558.696931276307, 0.0),\n",
       " (4706.055251748987, -2557.357990928653, 0.0),\n",
       " (4669.854716412865, -2555.268099932075, 0.0),\n",
       " (4653.591793428406, -2554.454140926456, 0.0),\n",
       " (4626.506759595056, -2553.342531002053, 0.0),\n",
       " (4615.693205987176, -2552.963298812643, 0.0),\n",
       " (4583.231843304799, -2552.037698660171, 0.0),\n",
       " (4561.599340525317, -2551.706524860262, 0.0),\n",
       " (4518.364165871958, -2551.513917206623, 0.0),\n",
       " (4496.759857712352, -2551.652390669327, 0.0),\n",
       " (4431.990993214459, -2552.619059358197, 0.0),\n",
       " (4388.870496778448, -2553.99822275987, 0.0),\n",
       " (4309.96190043956, -2557.130692651694, 0.0),\n",
       " (4274.152539375438, -2558.783054748428, 0.0),\n",
       " (4238.397497539321, -2560.43273516752, 0.0)]"
      ]
     },
     "execution_count": 63,
     "metadata": {},
     "output_type": "execute_result"
    }
   ],
   "source": [
    "e.dxfattribs()\n",
    "e.knots\n",
    "list(e.control_points)"
   ]
  },
  {
   "cell_type": "code",
   "execution_count": 8,
   "id": "58830261",
   "metadata": {},
   "outputs": [
    {
     "ename": "AttributeError",
     "evalue": "'BSpline' object has no attribute 'params'",
     "output_type": "error",
     "traceback": [
      "\u001b[0;31m---------------------------------------------------------------------------\u001b[0m",
      "\u001b[0;31mAttributeError\u001b[0m                            Traceback (most recent call last)",
      "\u001b[0;32m/tmp/ipykernel_713153/461560108.py\u001b[0m in \u001b[0;36m<module>\u001b[0;34m\u001b[0m\n\u001b[1;32m     27\u001b[0m \u001b[0mspline\u001b[0m \u001b[0;34m=\u001b[0m \u001b[0mezdxf\u001b[0m\u001b[0;34m.\u001b[0m\u001b[0mmath\u001b[0m\u001b[0;34m.\u001b[0m\u001b[0mBSpline\u001b[0m\u001b[0;34m(\u001b[0m\u001b[0mcontrol_points\u001b[0m\u001b[0;34m,\u001b[0m \u001b[0;36m4\u001b[0m\u001b[0;34m,\u001b[0m \u001b[0mknots\u001b[0m\u001b[0;34m)\u001b[0m\u001b[0;34m\u001b[0m\u001b[0;34m\u001b[0m\u001b[0m\n\u001b[1;32m     28\u001b[0m \u001b[0mlist\u001b[0m\u001b[0;34m(\u001b[0m\u001b[0mspline\u001b[0m\u001b[0;34m.\u001b[0m\u001b[0mapproximate\u001b[0m\u001b[0;34m(\u001b[0m\u001b[0;36m20\u001b[0m\u001b[0;34m)\u001b[0m\u001b[0;34m)\u001b[0m\u001b[0;34m\u001b[0m\u001b[0;34m\u001b[0m\u001b[0m\n\u001b[0;32m---> 29\u001b[0;31m \u001b[0mlist\u001b[0m\u001b[0;34m(\u001b[0m\u001b[0mspline\u001b[0m\u001b[0;34m.\u001b[0m\u001b[0mparams\u001b[0m\u001b[0;34m(\u001b[0m\u001b[0;36m20\u001b[0m\u001b[0;34m)\u001b[0m\u001b[0;34m)\u001b[0m\u001b[0;34m\u001b[0m\u001b[0;34m\u001b[0m\u001b[0m\n\u001b[0m",
      "\u001b[0;31mAttributeError\u001b[0m: 'BSpline' object has no attribute 'params'"
     ]
    }
   ],
   "source": [
    "control_points = [(4957.418247531769, -2579.798402875387, 0.0),\n",
    "                 (4936.462581495384, -2577.650858980297, 0.0),\n",
    "                 (4915.487999172654, -2575.509676557712, 0.0),\n",
    "                 (4845.078669766443, -2568.507768713401, 0.0),\n",
    "                 (4795.55195415239, -2563.888673469142, 0.0),\n",
    "                 (4725.985392571411, -2558.696931276307, 0.0),\n",
    "                 (4706.055251748987, -2557.357990928653, 0.0),\n",
    "                 (4669.854716412865, -2555.268099932075, 0.0),\n",
    "                 (4653.591793428406, -2554.454140926456, 0.0),\n",
    "                 (4626.506759595056, -2553.342531002053, 0.0),\n",
    "                 (4615.693205987176, -2552.963298812643, 0.0),\n",
    "                 (4583.231843304799, -2552.037698660171, 0.0),\n",
    "                 (4561.599340525317, -2551.706524860262, 0.0),\n",
    "                 (4518.364165871958, -2551.513917206623, 0.0),\n",
    "                 (4496.759857712352, -2551.652390669327, 0.0),\n",
    "                 (4431.990993214459, -2552.619059358197, 0.0),\n",
    "                 (4388.870496778448, -2553.99822275987, 0.0),\n",
    "                 (4309.96190043956, -2557.130692651694, 0.0),\n",
    "                 (4274.152539375438, -2558.783054748428, 0.0),\n",
    "                 (4238.397497539321, -2560.43273516752, 0.0)]\n",
    "knots = [ 11.15408553650174, 11.15408553650174, 11.15408553650174, 11.15408553650174, \n",
    "          74.23420502916287, 74.23420502916287, 222.7026150874886, 222.7026150874886, \n",
    "          282.2279449301449, 282.2279449301449, 330.7025071372611, 330.7025071372611, \n",
    "          362.8838735013803, 362.8838735013803, 427.2466062296185, 427.2466062296185, \n",
    "          491.6093389578567, 491.6093389578567, 620.3348044143331, 620.3348044143331, \n",
    "          727.5504819217829, 727.5504819217829, 727.5504819217829, 727.5504819217829 ]\n",
    "spline = ezdxf.math.BSpline(control_points, 4, knots)\n",
    "list(spline.approximate(20))\n",
    "list(spline.params(20))"
   ]
  },
  {
   "cell_type": "code",
   "execution_count": 14,
   "id": "ad6ab2e9",
   "metadata": {},
   "outputs": [
    {
     "data": {
      "text/plain": [
       "mappingproxy({'__module__': 'ezdxf.math.bspline',\n",
       "              '__doc__': '\\n    Calculate the points of a `B-spline`_ curve, using an uniform open `knot`_ vector (\"clamped\").\\n\\n    Accepts 2D points as definition points, but output is always 3D (z-axis = ``0``).\\n\\n    Args:\\n        control_points: iterable of control points as :class:`Vector` compatible objects\\n        order: spline order\\n        knots: iterable of knot values\\n        weights: iterable of weight values\\n\\n    ',\n",
       "              '__init__': <function ezdxf.math.bspline.BSpline.__init__(self, control_points: Iterable[ForwardRef('Vertex')], order: int = 4, knots: Iterable[float] = None, weights: Iterable[float] = None)>,\n",
       "              'nplusc': <property at 0x7f203c0e1e00>,\n",
       "              'count': <property at 0x7f203c0e1e50>,\n",
       "              'max_t': <property at 0x7f203c0e1ea0>,\n",
       "              'degree': <property at 0x7f203c0e1ef0>,\n",
       "              'knot_values': <function ezdxf.math.bspline.BSpline.knot_values(self) -> List[float]>,\n",
       "              'basis_values': <function ezdxf.math.bspline.BSpline.basis_values(self, t: float) -> List[float]>,\n",
       "              'step_size': <function ezdxf.math.bspline.BSpline.step_size(self, segments: int) -> float>,\n",
       "              'approximate': <function ezdxf.math.bspline.BSpline.approximate(self, segments: int = 20) -> Iterable[ezdxf.math.vector.Vector]>,\n",
       "              'point': <function ezdxf.math.bspline.BSpline.point(self, t: float) -> ezdxf.math.vector.Vector>,\n",
       "              'insert_knot': <function ezdxf.math.bspline.BSpline.insert_knot(self, t: float) -> None>,\n",
       "              '__dict__': <attribute '__dict__' of 'BSpline' objects>,\n",
       "              '__weakref__': <attribute '__weakref__' of 'BSpline' objects>})"
      ]
     },
     "execution_count": 14,
     "metadata": {},
     "output_type": "execute_result"
    }
   ],
   "source": [
    "ezdxf.math.bspline\n",
    "bspline = ezdxf.math.bspline.BSpline(control_points, 4, knots)\n",
    "ezdxf.math.bspline.BSpline.__dict__"
   ]
  },
  {
   "cell_type": "code",
   "execution_count": 15,
   "id": "fd74c153",
   "metadata": {},
   "outputs": [
    {
     "data": {
      "text/plain": [
       "'0.12'"
      ]
     },
     "execution_count": 15,
     "metadata": {},
     "output_type": "execute_result"
    }
   ],
   "source": [
    "ezdxf.__version__"
   ]
  },
  {
   "cell_type": "code",
   "execution_count": null,
   "id": "f240e252",
   "metadata": {},
   "outputs": [],
   "source": [
    "for t in [0, 11.15, 11.16, 50]:\n",
    "    print(t, spline.point(t))\n"
   ]
  },
  {
   "cell_type": "code",
   "execution_count": 61,
   "id": "a7adcd94",
   "metadata": {},
   "outputs": [
    {
     "data": {
      "text/plain": [
       "{'handle': '3D1',\n",
       " 'layer': 'PATCH-CUT',\n",
       " 'linetype': 'ByLayer',\n",
       " 'color': 256,\n",
       " 'lineweight': -1,\n",
       " 'extrusion': Vector(0.0, 0.0, 0.0),\n",
       " 'flags': 8,\n",
       " 'degree': 3,\n",
       " 'knot_tolerance': 1e-07,\n",
       " 'control_point_tolerance': 1e-07,\n",
       " 'owner': '1F'}"
      ]
     },
     "execution_count": 61,
     "metadata": {},
     "output_type": "execute_result"
    }
   ],
   "source": [
    "e.dxfattribs()"
   ]
  },
  {
   "cell_type": "code",
   "execution_count": 72,
   "id": "b8e90e71",
   "metadata": {},
   "outputs": [
    {
     "name": "stdout",
     "output_type": "stream",
     "text": [
      "0 (0.0, 0.0, 0.0)\n",
      "11.15 (0.0, 0.0, 0.0)\n",
      "11.16 (4957.412353050275, -2579.7977988071066, 0.0)\n",
      "50 (4918.681741381715, -2575.849117500832, 0.0)\n"
     ]
    }
   ],
   "source": []
  },
  {
   "cell_type": "code",
   "execution_count": 81,
   "id": "00195925",
   "metadata": {},
   "outputs": [
    {
     "data": {
      "text/plain": [
       "[Vector(4957.418247531769, -2579.798402875387, 0.0),\n",
       " Vector(4921.700902474779, -2576.1547321455146, 0.0),\n",
       " Vector(4885.945479349098, -2572.5749701070977, 0.0),\n",
       " Vector(4850.150479071177, -2569.110755375718, 0.0),\n",
       " Vector(4814.314351605665, -2565.8140923608107, 0.0),\n",
       " Vector(4778.435538801117, -2562.737070605427, 0.0),\n",
       " Vector(4742.512482448056, -2559.931780563112, 0.0),\n",
       " Vector(4706.543624226108, -2557.450525559637, 0.0),\n",
       " Vector(4670.527434258341, -2555.3458882095083, 0.0),\n",
       " Vector(4634.462434506037, -2553.6705460650737, 0.0),\n",
       " Vector(4598.3483239609395, -2552.4773319365017, 0.0),\n",
       " Vector(4562.229322162533, -2551.794249777106, 0.0),\n",
       " Vector(4526.133615938611, -2551.5801471652176, 0.0),\n",
       " Vector(4490.063517317942, -2551.7821255520494, 0.0),\n",
       " Vector(4454.020107361584, -2552.3473700190707, 0.0),\n",
       " Vector(4418.004790952712, -2553.2232549877954, 0.0),\n",
       " Vector(4382.018934961901, -2554.3574244917677, 0.0),\n",
       " Vector(4346.063905206995, -2555.6975387799394, 0.0),\n",
       " Vector(4310.141062671154, -2557.1913707502435, 0.0),\n",
       " Vector(4274.251792574578, -2558.7870420958234, 0.0),\n",
       " Vector(4238.397497539321, -2560.43273516752, 0.0)]"
      ]
     },
     "execution_count": 81,
     "metadata": {},
     "output_type": "execute_result"
    }
   ],
   "source": [
    "e = s[1]\n",
    "l = ezdxf.math.BSpline(e.control_points, e.dxfattribs()[\"degree\"]+1, [k-e.knots[0]  for k in e.knots ], e.weights or None)\n",
    "list(l.approximate(20))\n"
   ]
  },
  {
   "cell_type": "code",
   "execution_count": 5,
   "id": "0713c414",
   "metadata": {},
   "outputs": [
    {
     "name": "stdout",
     "output_type": "stream",
     "text": [
      "dmaxs-tail:  [0.013801958018743583, 0.013801958022529094, 0.01911316556174089]\n"
     ]
    },
    {
     "data": {
      "text/plain": [
       "<matplotlib.collections.PathCollection at 0x7f1fe4f4f5b0>"
      ]
     },
     "execution_count": 5,
     "metadata": {},
     "output_type": "execute_result"
    },
    {
     "data": {
      "image/png": "[encoded data removed]",
      "text/plain": [
       "<Figure size 864x504 with 1 Axes>"
      ]
     },
     "metadata": {
      "needs_background": "light"
     },
     "output_type": "display_data"
    }
   ],
   "source": [
    "from matplotlib import pyplot as plt\n",
    "%matplotlib inline\n",
    "plt.figure(figsize=(12,7))\n",
    "for es, c in [(penelements, \"blue\"), (cutelements, \"red\")]:\n",
    "    for e in es:\n",
    "        ps = linearizeelement(e)\n",
    "        plt.plot([p.x  for p in ps], [p.y  for p in ps], color=c)\n",
    "\n",
    "\n",
    "smergevertset = makemergevertset(cutelements, 0.2)\n",
    "def mergeverterror(mv):\n",
    "    return max((mv.pt - me.pts[0 if me.bfore else -1]).magnitude  for me in mv.mergeedges)\n",
    "highmergeerrors = [ mv.pt  for mv in smergevertset  if mergeverterror(mv) > 0.01 ]\n",
    "plt.scatter([pt.x  for pt in highmergeerrors], [pt.y  for pt in highmergeerrors])"
   ]
  },
  {
   "cell_type": "code",
   "execution_count": 10,
   "id": "b34f4783",
   "metadata": {},
   "outputs": [
    {
     "name": "stdout",
     "output_type": "stream",
     "text": [
      "dmaxs-tail:  [6.245036057586848e-12, 1.0999348430804918e-11, 0.06873168711912457]\n",
      "vertdegs: [2, 2, 2, 2, 2, 2, 2, 2, 2, 2, 2, 2, 2, 2, 2, 2, 2, 2, 2, 2, 2, 2, 2, 2, 2, 2, 2, 2, 2, 1, 2, 3, 2, 2, 2, 2, 2, 2, 2]\n",
      "Component:  8 5 41\n",
      "dmaxs-tail:  [3.6450773090749405e-12, 3.6699239967192685e-12, 3.712271306370825e-12]\n",
      "vertdegs: [2, 2, 2, 2, 2, 2, 2, 2, 2, 2, 2, 2, 2, 2, 2, 2, 2, 2, 2, 2, 2, 2, 2, 2, 2, 2]\n",
      "Component:  6 4 0\n",
      "dmaxs-tail:  [2.2737367544323206e-13, 3.410605131648481e-13, 9.165725883006586e-13]\n",
      "vertdegs: [2, 2, 2, 2, 2, 2, 2, 2, 2, 2, 2, 2, 2, 2, 2, 2]\n",
      "Component:  3 0 0\n",
      "dmaxs-tail:  [0.0, 3.410605131648481e-13, 9.165725883006586e-13]\n",
      "vertdegs: [2, 2, 2, 2, 2, 2, 2, 2, 2, 2, 2, 2, 2]\n",
      "Component:  3 0 0\n",
      "dmaxs-tail:  [0.0, 3.410605131648481e-13, 9.165725883006586e-13]\n",
      "vertdegs: [2, 2, 2, 2, 2, 2, 2, 2, 2, 2]\n",
      "Component:  3 0 0\n",
      "dmaxs-tail:  [0.0, 3.410605131648481e-13, 9.165725883006586e-13]\n",
      "vertdegs: [2, 2, 2, 2, 2, 2, 2]\n",
      "Component:  3 0 0\n",
      "dmaxs-tail:  [0.0, 3.410605131648481e-13, 9.165725883006586e-13]\n",
      "vertdegs: [2, 2, 2, 2]\n",
      "Component:  4 0 3\n"
     ]
    },
    {
     "data": {
      "image/png": "[encoded data removed]",
      "text/plain": [
       "<Figure size 864x504 with 1 Axes>"
      ]
     },
     "metadata": {
      "needs_background": "light"
     },
     "output_type": "display_data"
    }
   ],
   "source": [
    "from dxfgrouping import getblockcomponent, dxfoutputblocks\n",
    "\n",
    "lcutelements, lpenelements = cutelements, penelements\n",
    "elementgroups = [ ]\n",
    "\n",
    "while lcutelements:\n",
    "    res = getblockcomponent(lcutelements, lpenelements, dmax)\n",
    "    (outercutelements, outercutelementsdir) = res[0]\n",
    "    (internalcutelements, internalpenelements) = res[1]\n",
    "    (remainingcutelements, remainingpenelements) = res[2]\n",
    "    elementgroups.append((outercutelements, outercutelementsdir, internalcutelements, internalpenelements))\n",
    "    lcutelements, lpenelements = remainingcutelements, remainingpenelements\n",
    "    print(\"Component: \", len(outercutelements), len(internalcutelements), len(internalpenelements))\n",
    "    \n",
    "plt.figure(figsize=(12,7))\n",
    "xdisp = 0\n",
    "for loutercutelements, loutercutelementsdir, linternalcutelements, linternalpenelements in elementgroups:\n",
    "    for es, c in [(linternalpenelements, \"blue\"), (loutercutelements, \"red\"), (linternalcutelements, \"green\")]:\n",
    "        for e in es:\n",
    "            ps = linearizeelement(e)\n",
    "            plt.plot([p.x+xdisp  for p in ps], [p.y  for p in ps], color=c)\n",
    "    xdisp += 100"
   ]
  },
  {
   "cell_type": "code",
   "execution_count": 11,
   "id": "72e2af66",
   "metadata": {},
   "outputs": [],
   "source": [
    "\n",
    "dxfoutputblocks(outputfilename, elementgroups)\n"
   ]
  },
  {
   "cell_type": "code",
   "execution_count": null,
   "id": "9f319b98",
   "metadata": {},
   "outputs": [],
   "source": []
  },
  {
   "cell_type": "code",
   "execution_count": null,
   "id": "3f6c46e2",
   "metadata": {},
   "outputs": [],
   "source": []
  }
 ],
 "metadata": {
  "kernelspec": {
   "display_name": "Python 3 (ipykernel)",
   "language": "python",
   "name": "python3"
  },
  "language_info": {
   "codemirror_mode": {
    "name": "ipython",
    "version": 3
   },
   "file_extension": ".py",
   "mimetype": "text/x-python",
   "name": "python",
   "nbconvert_exporter": "python",
   "pygments_lexer": "ipython3",
   "version": "3.9.6"
  }
 },
 "nbformat": 4,
 "nbformat_minor": 5
}
