{
 "cells": [
  {
   "cell_type": "code",
   "execution_count": 2,
   "id": "c27e3ba6",
   "metadata": {},
   "outputs": [],
   "source": [
    "import ezdxf\n",
    "from dxfgrouping import filterlayerelements, makemergevertset, linearizeelement\n",
    "from dxfgrouping import getblockcomponent, dxfoutputblocks\n",
    "\n",
    "def convertall(inputfilename, outputfilename, cutlayers, penlayers, breflY, dmax):\n",
    "    d = ezdxf.readfile(inputfilename)\n",
    "    print(\"layerspresent:\", set(e.dxf.layer for e in d.entities))\n",
    "    d = ezdxf.readfile(inputfilename)\n",
    "    lwpolylines = [ e  for e in d.entities  if e.dxftype() == \"LWPOLYLINE\" ]\n",
    "    if lwpolylines:\n",
    "        #print(\"exploding %d lwpolylines\" % len(lwpolylines))\n",
    "        for e in lwpolylines:\n",
    "            e.explode()\n",
    "\n",
    "    cutelements = filterlayerelements(d, cutlayers)\n",
    "    penelements = filterlayerelements(d, penlayers)\n",
    "        \n",
    "    lcutelements, lpenelements = cutelements, penelements\n",
    "    elementgroups = [ ]\n",
    "\n",
    "    while lcutelements:\n",
    "        res = getblockcomponent(lcutelements, lpenelements, dmax)\n",
    "        (outercutelements, outercutelementsdir) = res[0]\n",
    "        (internalcutelements, internalpenelements) = res[1]\n",
    "        (remainingcutelements, remainingpenelements) = res[2]\n",
    "        elementgroups.append((outercutelements, outercutelementsdir, internalcutelements, internalpenelements))\n",
    "        lcutelements, lpenelements = remainingcutelements, remainingpenelements\n",
    "        #print(\"Component: \", len(outercutelements), len(internalcutelements), len(internalpenelements))\n",
    "        \n",
    "    dxfoutputblocks(outputfilename, elementgroups, breflY)\n",
    "    return elementgroups\n"
   ]
  },
  {
   "cell_type": "code",
   "execution_count": 3,
   "id": "95893b2d",
   "metadata": {},
   "outputs": [],
   "source": [
    "import os\n",
    "def createorclear(aamaoutdir, lsubdir):\n",
    "    subdir = os.path.join(aamaoutdir, lsubdir)\n",
    "    if os.path.exists(subdir):\n",
    "        for f in os.listdir(subdir):\n",
    "            os.remove(os.path.join(subdir, f))\n",
    "    else:\n",
    "        os.mkdir(subdir)\n",
    "    return subdir\n",
    "        \n"
   ]
  },
  {
   "cell_type": "code",
   "execution_count": 7,
   "id": "a14c610f",
   "metadata": {
    "scrolled": true,
    "tags": []
   },
   "outputs": [
    {
     "name": "stdout",
     "output_type": "stream",
     "text": [
      "layerspresent: {'PUMA-REF', 'PATCH-MYLAR', 'BSF-CUT-BOTH', 'BSR-CUT-PUMA', 'BSM-CUT-BOTH', 'SPLINES-MASTER', 'PATCH-REF', 'CONSTRUCTION', 'BSM-PLOT-EVO', 'BSF-PLOT-PUMA', 'BSM-PLOT-PUMA', 'BSR-PLOT-PUMA', 'BSR-CUT-EVO', 'HISTORY', 'BSF-PLOT-EVO', 'BSR-PLOT-EVO', 'PATCH-OUTSIDE', 'PATCH-INSIDE'}\n",
      "dmaxs-tail:  [0.08372939178096768, 0.19947231855740058, 0.19947231855740058]\n",
      "suppressing loop making merge\n",
      "suppressing loop making merge\n",
      "dmaxs-tail:  [0.08372939178096768, 0.19947231855740058, 0.19947231855740058]\n",
      "suppressing loop making merge\n",
      "suppressing loop making merge\n",
      "dmaxs-tail:  [0.08372939178096768, 0.19947231855740058, 0.19947231855740058]\n",
      "layerspresent: {'PUMA-REF', 'PATCH-MYLAR', 'BSF-CUT-BOTH', 'BSR-CUT-PUMA', 'BSM-CUT-BOTH', 'SPLINES-MASTER', 'PATCH-REF', 'CONSTRUCTION', 'BSM-PLOT-EVO', 'BSF-PLOT-PUMA', 'BSM-PLOT-PUMA', 'BSR-PLOT-PUMA', 'BSR-CUT-EVO', 'HISTORY', 'BSF-PLOT-EVO', 'BSR-PLOT-EVO', 'PATCH-OUTSIDE', 'PATCH-INSIDE'}\n",
      "dmaxs-tail:  [0.08372939178096768, 0.19947231855740058, 0.19947231855740058]\n",
      "suppressing loop making merge\n",
      "suppressing loop making merge\n",
      "dmaxs-tail:  [0.08372939178096768, 0.19947231855740058, 0.19947231855740058]\n",
      "suppressing loop making merge\n",
      "suppressing loop making merge\n",
      "dmaxs-tail:  [0.08372939178096768, 0.19947231855740058, 0.19947231855740058]\n",
      "layerspresent: {'PUMA-REF', 'PATCH-MYLAR', 'BSF-CUT-BOTH', 'BSR-CUT-PUMA', 'BSM-CUT-BOTH', 'SPLINES-MASTER', 'PATCH-REF', 'CONSTRUCTION', 'BSM-PLOT-EVO', 'BSF-PLOT-PUMA', 'BSM-PLOT-PUMA', 'BSR-PLOT-PUMA', 'BSR-CUT-EVO', 'HISTORY', 'BSF-PLOT-EVO', 'BSR-PLOT-EVO', 'PATCH-OUTSIDE', 'PATCH-INSIDE'}\n",
      "dmaxs-tail:  [1.1825617206291866e-11, 2.9103830456733704e-11, 0.15517031005556636]\n",
      "layerspresent: {'PUMA-REF', 'PATCH-MYLAR', 'BSF-CUT-BOTH', 'BSR-CUT-PUMA', 'BSM-CUT-BOTH', 'SPLINES-MASTER', 'PATCH-REF', 'CONSTRUCTION', 'BSM-PLOT-EVO', 'BSF-PLOT-PUMA', 'BSM-PLOT-PUMA', 'BSR-PLOT-PUMA', 'BSR-CUT-EVO', 'HISTORY', 'BSF-PLOT-EVO', 'BSR-PLOT-EVO', 'PATCH-OUTSIDE', 'PATCH-INSIDE'}\n",
      "dmaxs-tail:  [1.1825617206291866e-11, 2.9103830456733704e-11, 0.15517031005556636]\n",
      "layerspresent: {'PUMA-REF', 'PATCH-MYLAR', 'BSF-CUT-BOTH', 'BSR-CUT-PUMA', 'BSM-CUT-BOTH', 'SPLINES-MASTER', 'PATCH-REF', 'CONSTRUCTION', 'BSM-PLOT-EVO', 'BSF-PLOT-PUMA', 'BSM-PLOT-PUMA', 'BSR-PLOT-PUMA', 'BSR-CUT-EVO', 'HISTORY', 'BSF-PLOT-EVO', 'BSR-PLOT-EVO', 'PATCH-OUTSIDE', 'PATCH-INSIDE'}\n",
      "dmaxs-tail:  [0.11185623080910441, 0.9141746045252291, 0.9141746045252291]\n",
      "dmaxs-tail:  [0.11185623080910441, 0.9141746045252291, 0.9141746045252291]\n",
      "layerspresent: {'PUMA-REF', 'PATCH-MYLAR', 'BSF-CUT-BOTH', 'BSR-CUT-PUMA', 'BSM-CUT-BOTH', 'SPLINES-MASTER', 'PATCH-REF', 'CONSTRUCTION', 'BSM-PLOT-EVO', 'BSF-PLOT-PUMA', 'BSM-PLOT-PUMA', 'BSR-PLOT-PUMA', 'BSR-CUT-EVO', 'HISTORY', 'BSF-PLOT-EVO', 'BSR-PLOT-EVO', 'PATCH-OUTSIDE', 'PATCH-INSIDE'}\n",
      "dmaxs-tail:  [0.11185623080910441, 0.9141746045252291, 0.9141746045252291]\n",
      "dmaxs-tail:  [0.11185623080910441, 0.9141746045252291, 0.9141746045252291]\n",
      "layerspresent: {'PUMA-REF', 'PATCH-MYLAR', 'BSF-CUT-BOTH', 'BSR-CUT-PUMA', 'BSM-CUT-BOTH', 'SPLINES-MASTER', 'PATCH-REF', 'CONSTRUCTION', 'BSM-PLOT-EVO', 'BSF-PLOT-PUMA', 'BSM-PLOT-PUMA', 'BSR-PLOT-PUMA', 'BSR-CUT-EVO', 'HISTORY', 'BSF-PLOT-EVO', 'BSR-PLOT-EVO', 'PATCH-OUTSIDE', 'PATCH-INSIDE'}\n",
      "dmaxs-tail:  [1.1647215137477994e-11, 3.146533756077187e-10, 0.12527320463954944]\n",
      "dmaxs-tail:  [4.547473508864641e-13, 3.146533756077187e-10, 0.12527320463954944]\n",
      "dmaxs-tail:  [4.547473508864641e-13, 3.146533756077187e-10, 0.12527320463954944]\n",
      "layerspresent: {'PUMA-REF', 'PATCH-MYLAR', 'BSF-CUT-BOTH', 'BSR-CUT-PUMA', 'BSM-CUT-BOTH', 'SPLINES-MASTER', 'PATCH-REF', 'CONSTRUCTION', 'BSM-PLOT-EVO', 'BSF-PLOT-PUMA', 'BSM-PLOT-PUMA', 'BSR-PLOT-PUMA', 'BSR-CUT-EVO', 'HISTORY', 'BSF-PLOT-EVO', 'BSR-PLOT-EVO', 'PATCH-OUTSIDE', 'PATCH-INSIDE'}\n",
      "dmaxs-tail:  [1.1647215137477994e-11, 3.146533756077187e-10, 0.12527320463954944]\n",
      "dmaxs-tail:  [4.547473508864641e-13, 3.146533756077187e-10, 0.12527320463954944]\n",
      "dmaxs-tail:  [4.547473508864641e-13, 3.146533756077187e-10, 0.12527320463954944]\n",
      "layerspresent: {'PUMA-REF', 'PATCH-MYLAR', 'BSF-CUT-BOTH', 'BSR-CUT-PUMA', 'BSM-CUT-BOTH', 'SPLINES-MASTER', 'PATCH-REF', 'CONSTRUCTION', 'BSM-PLOT-EVO', 'BSF-PLOT-PUMA', 'BSM-PLOT-PUMA', 'BSR-PLOT-PUMA', 'BSR-CUT-EVO', 'HISTORY', 'BSF-PLOT-EVO', 'BSR-PLOT-EVO', 'PATCH-OUTSIDE', 'PATCH-INSIDE'}\n",
      "layerspresent: {'PUMA-REF', 'PATCH-MYLAR', 'BSF-CUT-BOTH', 'BSR-CUT-PUMA', 'BSM-CUT-BOTH', 'SPLINES-MASTER', 'PATCH-REF', 'CONSTRUCTION', 'BSM-PLOT-EVO', 'BSF-PLOT-PUMA', 'BSM-PLOT-PUMA', 'BSR-PLOT-PUMA', 'BSR-CUT-EVO', 'HISTORY', 'BSF-PLOT-EVO', 'BSR-PLOT-EVO', 'PATCH-OUTSIDE', 'PATCH-INSIDE'}\n"
     ]
    },
    {
     "data": {
      "text/plain": [
       "''"
      ]
     },
     "execution_count": 7,
     "metadata": {},
     "output_type": "execute_result"
    }
   ],
   "source": [
    "#-BS-10- Bottom surface.\n",
    "#  BSF and BSR cut from CZ15\n",
    "#  BSM cut from ODL04\n",
    "#  Inside patches cut from '170 color'\n",
    "#  Outside patches cut from ODL04\n",
    "#  Mylar patches\n",
    "\n",
    "# All need left and right hand versions.\n",
    "\n",
    "aamaoutdir = \"/home/timbo/Dropbox/Avian/Technical/Sails/Puma-13,5-Evo3-140/Production_drawings/AAMA\"\n",
    "dmax = 0.2\n",
    "inputfolder = \"/home/timbo/Dropbox/Avian/Technical/Sails/Puma-13,5-Evo3-140/Production_drawings/0Masters/\"\n",
    "\n",
    "inputfilename = inputfolder+'P-E-13,5-BS-Master-10.dxf'\n",
    "\n",
    "dCZ15 = createorclear(aamaoutdir, \"CZ15\")\n",
    "cutlayers, penlayers = [\"BSF-CUT-BOTH\",'BSR-CUT-PUMA'], ['BSF-PLOT-PUMA','BSR-PLOT-PUMA']\n",
    "outputfilename = os.path.join(dCZ15, \"BSF-R.dxf\")\n",
    "convertall(inputfilename, outputfilename, cutlayers, penlayers, False, dmax)\n",
    "outputfilename = os.path.join(dCZ15, \"BSF-R-reflY.dxf\")\n",
    "convertall(inputfilename, outputfilename, cutlayers, penlayers, True, dmax)\n",
    "\n",
    "dODL04 = createorclear(aamaoutdir, \"ODL04\")\n",
    "cutlayers, penlayers = [\"PATCH-OUTSIDE\"], []\n",
    "outputfilename = os.path.join(dODL04, \"BS-patcho.dxf\")\n",
    "convertall(inputfilename, outputfilename, cutlayers, penlayers, False, dmax)\n",
    "outputfilename = os.path.join(dODL04, \"BS-patcho-reflY.dxf\")\n",
    "convertall(inputfilename, outputfilename, cutlayers, penlayers, True, dmax)\n",
    "\n",
    "cutlayers, penlayers = ['BSM-CUT-BOTH'], ['BSM-PLOT-PUMA']\n",
    "outputfilename = os.path.join(dODL04, \"BSM.dxf\")\n",
    "convertall(inputfilename, outputfilename, cutlayers, penlayers, False, dmax)\n",
    "outputfilename = os.path.join(dODL04, \"BSM-reflY.dxf\")\n",
    "convertall(inputfilename, outputfilename, cutlayers, penlayers, True, dmax)\n",
    "\n",
    "d170color = createorclear(aamaoutdir, \"170color\")\n",
    "cutlayers, penlayers = [\"PATCH-INSIDE\"], []\n",
    "outputfilename = os.path.join(d170color, \"BS-patchi.dxf\")\n",
    "convertall(inputfilename, outputfilename, cutlayers, penlayers, False, dmax)\n",
    "outputfilename = os.path.join(d170color, \"BS-patchi-reflY.dxf\")\n",
    "convertall(inputfilename, outputfilename, cutlayers, penlayers, True, dmax)\n",
    "\n",
    "dMylar = createorclear(aamaoutdir, \"Mylar\")\n",
    "cutlayers, penlayers = [\"PATCH-MYLAR\"], []\n",
    "outputfilename = os.path.join(dMylar, \"BS-patchm.dxf\")\n",
    "convertall(inputfilename, outputfilename, cutlayers, penlayers, False, dmax)\n",
    "outputfilename = os.path.join(dMylar, \"BS-patchm-reflY.dxf\")\n",
    "convertall(inputfilename, outputfilename, cutlayers, penlayers, True, dmax)\n",
    ";"
   ]
  },
  {
   "cell_type": "code",
   "execution_count": 10,
   "id": "0ea070dc-6f81-47a5-8416-08ab5bc36aaf",
   "metadata": {
    "scrolled": true,
    "tags": []
   },
   "outputs": [
    {
     "name": "stdout",
     "output_type": "stream",
     "text": [
      "layerspresent: {'EVO-TSF-PLOT', 'PATCH-PLOT', 'EVO-OUTB-PLOT', 'PUMA-INB-CUT', 'EVO-INB-CUT', 'MYLAR-CUT', 'MYLAR-PLOT', 'Construction', 'EVO-OUTB-CUT', 'PATCH-CUT', 'BOTH-TSF-CUT', 'EVO-INB-PLOT', 'PUMA-INB-PLOT', 'HISTORY', 'SPLINES-MASTER', 'PATCH-REF', 'PUMA-TSF-PLOT', 'PUMA-OUTB-CUT', 'PUMA-OUTB-PLOT'}\n",
      "layerspresent: {'EVO-TSF-PLOT', 'PATCH-PLOT', 'EVO-OUTB-PLOT', 'PUMA-INB-CUT', 'EVO-INB-CUT', 'MYLAR-CUT', 'MYLAR-PLOT', 'Construction', 'EVO-OUTB-CUT', 'PATCH-CUT', 'BOTH-TSF-CUT', 'EVO-INB-PLOT', 'PUMA-INB-PLOT', 'HISTORY', 'SPLINES-MASTER', 'PATCH-REF', 'PUMA-TSF-PLOT', 'PUMA-OUTB-CUT', 'PUMA-OUTB-PLOT'}\n",
      "layerspresent: {'EVO-TSF-PLOT', 'PATCH-PLOT', 'EVO-OUTB-PLOT', 'PUMA-INB-CUT', 'EVO-INB-CUT', 'MYLAR-CUT', 'MYLAR-PLOT', 'Construction', 'EVO-OUTB-CUT', 'PATCH-CUT', 'BOTH-TSF-CUT', 'EVO-INB-PLOT', 'PUMA-INB-PLOT', 'HISTORY', 'SPLINES-MASTER', 'PATCH-REF', 'PUMA-TSF-PLOT', 'PUMA-OUTB-CUT', 'PUMA-OUTB-PLOT'}\n",
      "dmaxs-tail:  [0.02228175052527887, 0.03905782147910486, 0.17509959786198864]\n",
      "dmaxs-tail:  [0.019180883268445362, 0.02228175052527887, 0.17509959786198864]\n",
      "dmaxs-tail:  [0.019180883268445362, 0.02228175052527887, 0.17509959786198864]\n",
      "dmaxs-tail:  [0.019180883268445362, 0.02228175052527887, 0.17509959786198864]\n",
      "dmaxs-tail:  [2.7284841053187847e-12, 0.019180883268445362, 0.02228175052527887]\n",
      "dmaxs-tail:  [2.7284841053187847e-12, 0.019180883268445362, 0.02228175052527887]\n",
      "dmaxs-tail:  [2.7284841053187847e-12, 0.019180883268445362, 0.02228175052527887]\n",
      "dmaxs-tail:  [2.7284841053187847e-12, 0.019180883268445362, 0.02228175052527887]\n",
      "dmaxs-tail:  [2.033691978340166e-12, 2.7284841053187847e-12, 0.019180883268445362]\n",
      "layerspresent: {'EVO-TSF-PLOT', 'PATCH-PLOT', 'EVO-OUTB-PLOT', 'PUMA-INB-CUT', 'EVO-INB-CUT', 'MYLAR-CUT', 'MYLAR-PLOT', 'Construction', 'EVO-OUTB-CUT', 'PATCH-CUT', 'BOTH-TSF-CUT', 'EVO-INB-PLOT', 'PUMA-INB-PLOT', 'HISTORY', 'SPLINES-MASTER', 'PATCH-REF', 'PUMA-TSF-PLOT', 'PUMA-OUTB-CUT', 'PUMA-OUTB-PLOT'}\n",
      "dmaxs-tail:  [0.02228175052527887, 0.03905782147910486, 0.17509959786198864]\n",
      "dmaxs-tail:  [0.019180883268445362, 0.02228175052527887, 0.17509959786198864]\n",
      "dmaxs-tail:  [0.019180883268445362, 0.02228175052527887, 0.17509959786198864]\n",
      "dmaxs-tail:  [0.019180883268445362, 0.02228175052527887, 0.17509959786198864]\n",
      "dmaxs-tail:  [2.7284841053187847e-12, 0.019180883268445362, 0.02228175052527887]\n",
      "dmaxs-tail:  [2.7284841053187847e-12, 0.019180883268445362, 0.02228175052527887]\n",
      "dmaxs-tail:  [2.7284841053187847e-12, 0.019180883268445362, 0.02228175052527887]\n",
      "dmaxs-tail:  [2.7284841053187847e-12, 0.019180883268445362, 0.02228175052527887]\n",
      "dmaxs-tail:  [2.033691978340166e-12, 2.7284841053187847e-12, 0.019180883268445362]\n",
      "layerspresent: {'EVO-TSF-PLOT', 'PATCH-PLOT', 'EVO-OUTB-PLOT', 'PUMA-INB-CUT', 'EVO-INB-CUT', 'MYLAR-CUT', 'MYLAR-PLOT', 'Construction', 'EVO-OUTB-CUT', 'PATCH-CUT', 'BOTH-TSF-CUT', 'EVO-INB-PLOT', 'PUMA-INB-PLOT', 'HISTORY', 'SPLINES-MASTER', 'PATCH-REF', 'PUMA-TSF-PLOT', 'PUMA-OUTB-CUT', 'PUMA-OUTB-PLOT'}\n",
      "layerspresent: {'EVO-TSF-PLOT', 'PATCH-PLOT', 'EVO-OUTB-PLOT', 'PUMA-INB-CUT', 'EVO-INB-CUT', 'MYLAR-CUT', 'MYLAR-PLOT', 'Construction', 'EVO-OUTB-CUT', 'PATCH-CUT', 'BOTH-TSF-CUT', 'EVO-INB-PLOT', 'PUMA-INB-PLOT', 'HISTORY', 'SPLINES-MASTER', 'PATCH-REF', 'PUMA-TSF-PLOT', 'PUMA-OUTB-CUT', 'PUMA-OUTB-PLOT'}\n",
      "layerspresent: {'EVO-TSF-PLOT', 'PATCH-PLOT', 'EVO-OUTB-PLOT', 'PUMA-INB-CUT', 'EVO-INB-CUT', 'MYLAR-CUT', 'MYLAR-PLOT', 'Construction', 'EVO-OUTB-CUT', 'PATCH-CUT', 'BOTH-TSF-CUT', 'EVO-INB-PLOT', 'PUMA-INB-PLOT', 'HISTORY', 'SPLINES-MASTER', 'PATCH-REF', 'PUMA-TSF-PLOT', 'PUMA-OUTB-CUT', 'PUMA-OUTB-PLOT'}\n",
      "dmaxs-tail:  [0.17265167532622697, 0.17265167532662332, 0.17265167532662332]\n",
      "suppressing loop making merge\n",
      "suppressing loop making merge\n",
      "suppressing loop making merge\n",
      "suppressing loop making merge\n",
      "suppressing loop making merge\n",
      "suppressing loop making merge\n",
      "suppressing loop making merge\n",
      "suppressing loop making merge\n",
      "suppressing loop making merge\n",
      "suppressing loop making merge\n",
      "suppressing loop making merge\n",
      "suppressing loop making merge\n",
      "layerspresent: {'EVO-TSF-PLOT', 'PATCH-PLOT', 'EVO-OUTB-PLOT', 'PUMA-INB-CUT', 'EVO-INB-CUT', 'MYLAR-CUT', 'MYLAR-PLOT', 'Construction', 'EVO-OUTB-CUT', 'PATCH-CUT', 'BOTH-TSF-CUT', 'EVO-INB-PLOT', 'PUMA-INB-PLOT', 'HISTORY', 'SPLINES-MASTER', 'PATCH-REF', 'PUMA-TSF-PLOT', 'PUMA-OUTB-CUT', 'PUMA-OUTB-PLOT'}\n",
      "dmaxs-tail:  [0.17265167532622697, 0.17265167532662332, 0.17265167532662332]\n",
      "suppressing loop making merge\n",
      "suppressing loop making merge\n",
      "suppressing loop making merge\n",
      "suppressing loop making merge\n",
      "suppressing loop making merge\n",
      "suppressing loop making merge\n",
      "suppressing loop making merge\n",
      "suppressing loop making merge\n",
      "suppressing loop making merge\n",
      "suppressing loop making merge\n",
      "suppressing loop making merge\n",
      "suppressing loop making merge\n"
     ]
    },
    {
     "data": {
      "text/plain": [
       "''"
      ]
     },
     "execution_count": 10,
     "metadata": {},
     "output_type": "execute_result"
    }
   ],
   "source": [
    "#-TSF-11- Leading edge.\n",
    "#  TSF outer cut from ODL06\n",
    "#  Inboard inner cut from Dacron\n",
    "#  Outboard inner cut from CZ15\n",
    "#  Mylars\n",
    "\n",
    "# All need left and right hand versions.\n",
    "\n",
    "aamaoutdir = \"/home/timbo/Dropbox/Avian/Technical/Sails/Puma-13,5-Evo3-140/Production_drawings/AAMA\"\n",
    "dmax = 0.2\n",
    "inputfolder = \"/home/timbo/Dropbox/Avian/Technical/Sails/Puma-13,5-Evo3-140/Production_drawings/0Masters/\"\n",
    "\n",
    "inputfilename = inputfolder+'P-E-13,5-TSF-Master-11.dxf'\n",
    "\n",
    "dODL06 = createorclear(aamaoutdir, \"ODL06\")\n",
    "cutlayers, penlayers = ['BOTH-TSF-CUT'], ['PUMA-TSF-PLOT']\n",
    "outputfilename = os.path.join(dODL06, \"TSF.dxf\")\n",
    "convertall(inputfilename, outputfilename, cutlayers, penlayers, False, dmax)\n",
    "outputfilename = os.path.join(dODL06, \"TSF-reflY.dxf\")\n",
    "convertall(inputfilename, outputfilename, cutlayers, penlayers, True, dmax)\n",
    "\n",
    "cutlayers, penlayers = ['PUMA-INB-CUT','PATCH-CUT'], ['PUMA-INB-PLOT','PATCH-PLOT']\n",
    "outputfilename = os.path.join(d170color, \"TSF-INB-Patch.dxf\")\n",
    "convertall(inputfilename, outputfilename, cutlayers, penlayers, False, dmax)\n",
    "outputfilename = os.path.join(d170color, \"TSF-INB-Patch-reflY.dxf\")\n",
    "convertall(inputfilename, outputfilename, cutlayers, penlayers, True, dmax)\n",
    "\n",
    "cutlayers, penlayers = ['PUMA-OUTB-CUT'], ['PUMA-OUTB-PLOT']\n",
    "outputfilename = os.path.join(dCZ15, \"TSF-OUTB.dxf\")\n",
    "convertall(inputfilename, outputfilename, cutlayers, penlayers, False, dmax)\n",
    "outputfilename = os.path.join(dCZ15, \"TSF-OUTB-reflY.dxf\")\n",
    "convertall(inputfilename, outputfilename, cutlayers, penlayers, True, dmax)\n",
    "\n",
    "cutlayers, penlayers = ['MYLAR-CUT'], ['MYLAR-PLOT']\n",
    "outputfilename = os.path.join(dMylar, \"TSF-Mylar.dxf\")\n",
    "convertall(inputfilename, outputfilename, cutlayers, penlayers, False, dmax)\n",
    "outputfilename = os.path.join(dMylar, \"TSF-Mylar-reflY.dxf\")\n",
    "convertall(inputfilename, outputfilename, cutlayers, penlayers, True, dmax)\n",
    ";"
   ]
  },
  {
   "cell_type": "code",
   "execution_count": 5,
   "id": "7c1bbacd-515a-4e33-a57f-c7278b4c8acd",
   "metadata": {
    "scrolled": true,
    "tags": []
   },
   "outputs": [
    {
     "name": "stdout",
     "output_type": "stream",
     "text": [
      "layerspresent: {'HISTORY', 'CONSTRUCTION', 'EVO-PATCH-CUT', 'PUMA-TSM-CUT-LINE', 'PUMA-TSM-PLOT-LINE', 'EVO-CUT-LINE', 'EVO-PLOT-LINE'}\n",
      "<generator object BSpline.flattening at 0x7f35abad4c80>\n",
      "<generator object BSpline.flattening at 0x7f35abad4c80>\n",
      "<generator object BSpline.flattening at 0x7f35abad4c80>\n",
      "<generator object BSpline.flattening at 0x7f35abad4c80>\n",
      "<generator object BSpline.flattening at 0x7f35abad4c80>\n",
      "<generator object BSpline.flattening at 0x7f35abad4c80>\n",
      "<generator object BSpline.flattening at 0x7f35abad4c80>\n",
      "<generator object BSpline.flattening at 0x7f35abad4c80>\n",
      "<generator object BSpline.flattening at 0x7f35abad4c80>\n",
      "<generator object BSpline.flattening at 0x7f35abad4c80>\n",
      "<generator object BSpline.flattening at 0x7f35abad4c80>\n",
      "<generator object BSpline.flattening at 0x7f35abad4c80>\n",
      "<generator object BSpline.flattening at 0x7f35abad4c80>\n",
      "<generator object BSpline.flattening at 0x7f35abad4c80>\n",
      "<generator object BSpline.flattening at 0x7f35abad4c80>\n",
      "layerspresent: {'HISTORY', 'CONSTRUCTION', 'EVO-PATCH-CUT', 'PUMA-TSM-CUT-LINE', 'PUMA-TSM-PLOT-LINE', 'EVO-CUT-LINE', 'EVO-PLOT-LINE'}\n",
      "<generator object BSpline.flattening at 0x7f35abad45f0>\n",
      "<generator object BSpline.flattening at 0x7f35abad45f0>\n",
      "<generator object BSpline.flattening at 0x7f35abad45f0>\n",
      "<generator object BSpline.flattening at 0x7f35abad45f0>\n",
      "<generator object BSpline.flattening at 0x7f35abad45f0>\n",
      "<generator object BSpline.flattening at 0x7f35abad45f0>\n",
      "<generator object BSpline.flattening at 0x7f35abad45f0>\n",
      "<generator object BSpline.flattening at 0x7f35abad45f0>\n",
      "<generator object BSpline.flattening at 0x7f35abad45f0>\n",
      "<generator object BSpline.flattening at 0x7f35abad45f0>\n",
      "<generator object BSpline.flattening at 0x7f35abad45f0>\n",
      "<generator object BSpline.flattening at 0x7f35abad45f0>\n",
      "<generator object BSpline.flattening at 0x7f35abad45f0>\n",
      "<generator object BSpline.flattening at 0x7f35abad45f0>\n",
      "<generator object BSpline.flattening at 0x7f35abad45f0>\n"
     ]
    },
    {
     "data": {
      "text/plain": [
       "''"
      ]
     },
     "execution_count": 5,
     "metadata": {},
     "output_type": "execute_result"
    }
   ],
   "source": [
    "#-TSM-07- Top surface middle.\n",
    "#  TSM cut from ODL04\n",
    "\n",
    "\n",
    "# All need left and right hand versions.\n",
    "\n",
    "aamaoutdir = \"/home/timbo/Dropbox/Avian/Technical/Sails/Puma-13,5-Evo3-140/Production_drawings/AAMA\"\n",
    "dmax = 0.2\n",
    "inputfolder = \"/home/timbo/Dropbox/Avian/Technical/Sails/Puma-13,5-Evo3-140/Production_drawings/0Masters/\"\n",
    "\n",
    "inputfilename = inputfolder+'P-E-13,5-TSM-Master-07.dxf'\n",
    "\n",
    "dODL04 = createorclear(aamaoutdir, \"ODL04\")\n",
    "\n",
    "cutlayers, penlayers = ['PUMA-TSM-CUT-LINE'], ['PUMA-TSM-PLOT-LINE']\n",
    "outputfilename = os.path.join(dODL04, \"TSM.dxf\")\n",
    "convertall(inputfilename, outputfilename, cutlayers, penlayers, False, dmax)\n",
    "outputfilename = os.path.join(dODL04, \"TSM-reflY.dxf\")\n",
    "convertall(inputfilename, outputfilename, cutlayers, penlayers, True, dmax)\n",
    ";"
   ]
  },
  {
   "cell_type": "code",
   "execution_count": 1,
   "id": "4ed143b0",
   "metadata": {},
   "outputs": [
    {
     "ename": "NameError",
     "evalue": "name 'os' is not defined",
     "output_type": "error",
     "traceback": [
      "\u001b[0;31m---------------------------------------------------------------------------\u001b[0m",
      "\u001b[0;31mNameError\u001b[0m                                 Traceback (most recent call last)",
      "\u001b[0;32m/tmp/ipykernel_47607/1430448737.py\u001b[0m in \u001b[0;36m<module>\u001b[0;34m\u001b[0m\n\u001b[1;32m      3\u001b[0m \u001b[0minputfilename\u001b[0m \u001b[0;34m=\u001b[0m \u001b[0;34m\"../dxffiles/F15-KP-01.dxf\"\u001b[0m\u001b[0;34m\u001b[0m\u001b[0;34m\u001b[0m\u001b[0m\n\u001b[1;32m      4\u001b[0m \u001b[0mcutlayers\u001b[0m\u001b[0;34m,\u001b[0m \u001b[0mpenlayers\u001b[0m \u001b[0;34m=\u001b[0m \u001b[0;34m[\u001b[0m\u001b[0;34m\"KP-CUT\"\u001b[0m\u001b[0;34m]\u001b[0m\u001b[0;34m,\u001b[0m \u001b[0;34m[\u001b[0m\u001b[0;34m'KP-PLOT'\u001b[0m\u001b[0;34m]\u001b[0m\u001b[0;34m\u001b[0m\u001b[0;34m\u001b[0m\u001b[0m\n\u001b[0;32m----> 5\u001b[0;31m \u001b[0moutputfilename\u001b[0m \u001b[0;34m=\u001b[0m \u001b[0mos\u001b[0m\u001b[0;34m.\u001b[0m\u001b[0mpath\u001b[0m\u001b[0;34m.\u001b[0m\u001b[0mjoin\u001b[0m\u001b[0;34m(\u001b[0m\u001b[0md210mastsleeve\u001b[0m\u001b[0;34m,\u001b[0m \u001b[0;34m\"F15-KP.dxf\"\u001b[0m\u001b[0;34m)\u001b[0m\u001b[0;34m\u001b[0m\u001b[0;34m\u001b[0m\u001b[0m\n\u001b[0m\u001b[1;32m      6\u001b[0m \u001b[0mconvertall\u001b[0m\u001b[0;34m(\u001b[0m\u001b[0minputfilename\u001b[0m\u001b[0;34m,\u001b[0m \u001b[0moutputfilename\u001b[0m\u001b[0;34m,\u001b[0m \u001b[0mcutlayers\u001b[0m\u001b[0;34m,\u001b[0m \u001b[0mpenlayers\u001b[0m\u001b[0;34m,\u001b[0m \u001b[0;32mFalse\u001b[0m\u001b[0;34m,\u001b[0m \u001b[0mdmax\u001b[0m\u001b[0;34m)\u001b[0m\u001b[0;34m\u001b[0m\u001b[0;34m\u001b[0m\u001b[0m\n",
      "\u001b[0;31mNameError\u001b[0m: name 'os' is not defined"
     ]
    }
   ],
   "source": [
    "#Fly15 Keel pocket, no reflection needed\n",
    "\n",
    "inputfilename = \"../dxffiles/F15-KP-01.dxf\"\n",
    "cutlayers, penlayers = [\"KP-CUT\"], ['KP-PLOT']\n",
    "outputfilename = os.path.join(d210mastsleeve, \"F15-KP.dxf\")\n",
    "convertall(inputfilename, outputfilename, cutlayers, penlayers, False, dmax)"
   ]
  },
  {
   "cell_type": "code",
   "execution_count": null,
   "id": "7003c79e",
   "metadata": {},
   "outputs": [],
   "source": []
  }
 ],
 "metadata": {
  "kernelspec": {
   "display_name": "Python 3 (ipykernel)",
   "language": "python",
   "name": "python3"
  },
  "language_info": {
   "codemirror_mode": {
    "name": "ipython",
    "version": 3
   },
   "file_extension": ".py",
   "mimetype": "text/x-python",
   "name": "python",
   "nbconvert_exporter": "python",
   "pygments_lexer": "ipython3",
   "version": "3.8.12"
  }
 },
 "nbformat": 4,
 "nbformat_minor": 5
}
