{
 "cells": [
  {
   "cell_type": "code",
   "execution_count": 9,
   "id": "9b675e8e",
   "metadata": {},
   "outputs": [
    {
     "name": "stdout",
     "output_type": "stream",
     "text": [
      "{'test': 9}\n"
     ]
    }
   ],
   "source": [
    "my ={}\n",
    "my['test'] =9\n",
    "if my:\n",
    "    print(my)\n",
    "else:\n",
    "    print('empty')"
   ]
  },
  {
   "cell_type": "code",
   "execution_count": 1,
   "id": "c27e3ba6",
   "metadata": {},
   "outputs": [],
   "source": [
    "import ezdxf\n",
    "from dxfgrouping import filterlayerelements, makemergevertset, linearizeelement\n",
    "from dxfgrouping import getblockcomponent, dxfoutputblocks\n",
    "\n",
    "def convertall(inputfilename, outputfilename, cutlayers, penlayers, breflY, dmax):\n",
    "    d = ezdxf.readfile(inputfilename)\n",
    "    print(\"layerspresent:\", set(e.dxf.layer for e in d.entities))\n",
    "    d = ezdxf.readfile(inputfilename)\n",
    "    lwpolylines = [ e  for e in d.entities  if e.dxftype() == \"LWPOLYLINE\" ]\n",
    "    if lwpolylines:\n",
    "        #print(\"exploding %d lwpolylines\" % len(lwpolylines))\n",
    "        for e in lwpolylines:\n",
    "            e.explode()\n",
    "\n",
    "    cutelements = filterlayerelements(d, cutlayers)\n",
    "    penelements = filterlayerelements(d, penlayers)\n",
    "        \n",
    "    lcutelements, lpenelements = cutelements, penelements\n",
    "    elementgroups = [ ]\n",
    "\n",
    "    while lcutelements:\n",
    "        res = getblockcomponent(lcutelements, lpenelements, dmax)\n",
    "        (outercutelements, outercutelementsdir) = res[0]\n",
    "        (internalcutelements, internalpenelements) = res[1]\n",
    "        (remainingcutelements, remainingpenelements) = res[2]\n",
    "        elementgroups.append((outercutelements, outercutelementsdir, internalcutelements, internalpenelements))\n",
    "        lcutelements, lpenelements = remainingcutelements, remainingpenelements\n",
    "        #print(\"Component: \", len(outercutelements), len(internalcutelements), len(internalpenelements))\n",
    "        \n",
    "    dxfoutputblocks(outputfilename, elementgroups, breflY)\n",
    "    return elementgroups\n"
   ]
  },
  {
   "cell_type": "code",
   "execution_count": 2,
   "id": "95893b2d",
   "metadata": {},
   "outputs": [],
   "source": [
    "import os\n",
    "def createorclear(aamaoutdir, lsubdir):\n",
    "    subdir = os.path.join(aamaoutdir, lsubdir)\n",
    "    if os.path.exists(subdir):\n",
    "        for f in os.listdir(subdir):\n",
    "            os.remove(os.path.join(subdir, f))\n",
    "    else:\n",
    "        os.mkdir(subdir)\n",
    "    return subdir\n",
    "        \n"
   ]
  },
  {
   "cell_type": "code",
   "execution_count": 3,
   "id": "a14c610f",
   "metadata": {},
   "outputs": [
    {
     "name": "stdout",
     "output_type": "stream",
     "text": [
      "layerspresent: {'BS-PLOT', 'REFERENCE', 'CONSTRUCTION', 'HISTORY', 'BS-CUT'}\n",
      "dmaxs-tail:  [6.245036057586848e-12, 1.0999348430804918e-11, 0.06873168711912457]\n",
      "layerspresent: {'BS-PLOT', 'REFERENCE', 'CONSTRUCTION', 'HISTORY', 'BS-CUT'}\n",
      "dmaxs-tail:  [6.245036057586848e-12, 1.0999348430804918e-11, 0.06873168711912457]\n"
     ]
    }
   ],
   "source": [
    "#-F15-BS-01- Bottom surface. \n",
    "#  BS-CUT layer to be cut, BS-PLOT to be plotted, all pieces cut from '170 color'\n",
    "\n",
    "# All need left and right hand versions.\n",
    "\n",
    "aamaoutdir = \"../dxffiles/aamaout\"\n",
    "dmax = 0.2\n",
    "\n",
    "inputfilename = \"../dxffiles/F15-BS-01.dxf\"\n",
    "d170color = createorclear(aamaoutdir, \"170color\")\n",
    "cutlayers, penlayers = [\"BS-CUT\"], ['BS-PLOT']\n",
    "outputfilename = os.path.join(d170color, \"F15-BS.dxf\")\n",
    "convertall(inputfilename, outputfilename, cutlayers, penlayers, False, dmax)\n",
    "outputfilename = os.path.join(d170color, \"F15-BS-reflY.dxf\")\n",
    "k = convertall(inputfilename, outputfilename, cutlayers, penlayers, True, dmax)\n"
   ]
  },
  {
   "cell_type": "code",
   "execution_count": null,
   "id": "b88ddb1c",
   "metadata": {},
   "outputs": [],
   "source": []
  },
  {
   "cell_type": "code",
   "execution_count": 5,
   "id": "dbdba075",
   "metadata": {},
   "outputs": [
    {
     "data": {
      "text/plain": [
       "Vector(2800.27996743414, -229.83702825258047, 0.0)"
      ]
     },
     "execution_count": 5,
     "metadata": {},
     "output_type": "execute_result"
    }
   ],
   "source": [
    "from dxfgrouping import cutcontouraspoly, dxfoutputblocks\n",
    "ptsseq = cutcontouraspoly(k[0][0], k[0][1])\n",
    "contourcentre = ezdxf.math.vector.Vector((min(p.x  for p in ptsseq) + max(p.x  for p in ptsseq))/2, (min(p.y  for p in ptsseq) + max(p.y  for p in ptsseq))/2, 0)\n",
    "contourcentre"
   ]
  },
  {
   "cell_type": "code",
   "execution_count": 6,
   "id": "f39439c4",
   "metadata": {},
   "outputs": [
    {
     "name": "stdout",
     "output_type": "stream",
     "text": [
      "layerspresent: {'TSF-PLOT', 'PATCH-REF', 'PATCH-NORM-CUT', 'TSF-CUT', 'CONSTRUCTION', 'MYLAR-CUT', 'PATCH-CARR-PLOT', 'PATCH-NORM-PLOT', 'HISTORY', 'PATCH-CARR-CUT'}\n",
      "layerspresent: {'TSF-PLOT', 'PATCH-REF', 'PATCH-NORM-CUT', 'TSF-CUT', 'CONSTRUCTION', 'MYLAR-CUT', 'PATCH-CARR-PLOT', 'PATCH-NORM-PLOT', 'HISTORY', 'PATCH-CARR-CUT'}\n",
      "layerspresent: {'TSF-PLOT', 'PATCH-REF', 'PATCH-NORM-CUT', 'TSF-CUT', 'CONSTRUCTION', 'MYLAR-CUT', 'PATCH-CARR-PLOT', 'PATCH-NORM-PLOT', 'HISTORY', 'PATCH-CARR-CUT'}\n",
      "dmaxs-tail:  [0.0002619047815896499, 0.044846696606814195, 0.05489101224166145]\n",
      "dmaxs-tail:  [0.0002619047815896499, 0.044846696606814195, 0.05489101224166145]\n",
      "dmaxs-tail:  [0.0002619047815896499, 0.044846696606814195, 0.05489101224166145]\n",
      "dmaxs-tail:  [0.0002619047815896499, 0.044846696606814195, 0.05489101224166145]\n",
      "dmaxs-tail:  [0.0002619047815896499, 0.044846696606814195, 0.05489101224166145]\n",
      "dmaxs-tail:  [9.094947017729282e-13, 0.044846696606814195, 0.05489101224166145]\n",
      "dmaxs-tail:  [0.0, 9.094947017729282e-13, 0.05489101224166145]\n",
      "layerspresent: {'TSF-PLOT', 'PATCH-REF', 'PATCH-NORM-CUT', 'TSF-CUT', 'CONSTRUCTION', 'MYLAR-CUT', 'PATCH-CARR-PLOT', 'PATCH-NORM-PLOT', 'HISTORY', 'PATCH-CARR-CUT'}\n",
      "dmaxs-tail:  [0.0002619047815896499, 0.044846696606814195, 0.05489101224166145]\n",
      "dmaxs-tail:  [0.0002619047815896499, 0.044846696606814195, 0.05489101224166145]\n",
      "dmaxs-tail:  [0.0002619047815896499, 0.044846696606814195, 0.05489101224166145]\n",
      "dmaxs-tail:  [0.0002619047815896499, 0.044846696606814195, 0.05489101224166145]\n",
      "dmaxs-tail:  [0.0002619047815896499, 0.044846696606814195, 0.05489101224166145]\n",
      "dmaxs-tail:  [9.094947017729282e-13, 0.044846696606814195, 0.05489101224166145]\n",
      "dmaxs-tail:  [0.0, 9.094947017729282e-13, 0.05489101224166145]\n",
      "layerspresent: {'TSF-PLOT', 'PATCH-REF', 'PATCH-NORM-CUT', 'TSF-CUT', 'CONSTRUCTION', 'MYLAR-CUT', 'PATCH-CARR-PLOT', 'PATCH-NORM-PLOT', 'HISTORY', 'PATCH-CARR-CUT'}\n",
      "layerspresent: {'TSF-PLOT', 'PATCH-REF', 'PATCH-NORM-CUT', 'TSF-CUT', 'CONSTRUCTION', 'MYLAR-CUT', 'PATCH-CARR-PLOT', 'PATCH-NORM-PLOT', 'HISTORY', 'PATCH-CARR-CUT'}\n"
     ]
    },
    {
     "data": {
      "text/plain": [
       "''"
      ]
     },
     "execution_count": 6,
     "metadata": {},
     "output_type": "execute_result"
    }
   ],
   "source": [
    "#-F15-TSF-Master-04.dxf. Top surface front (leading edge). \n",
    "#  TSF-CUT and TSF-PLOT to be cut from '210 mast sleeve' \n",
    "#  PATCH-NORM CUT and PLOT to be from 210 mast sleeve if making a standard glider\n",
    "#    or PATCH-CARR_CUT and PLOT to be from 210 mast sleeve if making a carrier wing one. \n",
    "#  MYLAR-CUT to cut from Mylar.\n",
    "\n",
    "aamaoutdir = \"../dxffiles/aamaout\"\n",
    "dmax = 0.2\n",
    "\n",
    "carrierwingglider = True\n",
    "\n",
    "inputfilename = \"../dxffiles/F15-TSF-Master-05.dxf\"\n",
    "d210mastsleeve = createorclear(aamaoutdir, \"210mastsleeve\")\n",
    "cutlayers, penlayers = ['TSF-CUT'], ['TSF-PLOT']\n",
    "outputfilename = os.path.join(d210mastsleeve, \"F15-TSF.dxf\")\n",
    "convertall(inputfilename, outputfilename, cutlayers, penlayers, False, dmax)\n",
    "outputfilename = os.path.join(d210mastsleeve, \"F15-TSF-reflY.dxf\")\n",
    "convertall(inputfilename, outputfilename, cutlayers, penlayers, True, dmax)\n",
    "\n",
    "if carrierwingglider:\n",
    "    cutlayers, penlayers = ['PATCH-CARR-CUT'], ['PATCH-CARR-PLOT']\n",
    "else:\n",
    "    cutlayers, penlayers = ['PATCH-NORM-CUT'], ['PATCH-NORM-PLOT']\n",
    "outputfilename = os.path.join(d210mastsleeve, \"F15-TSF-PATCH.dxf\")\n",
    "convertall(inputfilename, outputfilename, cutlayers, penlayers, False, dmax)\n",
    "outputfilename = os.path.join(d210mastsleeve, \"F15-TSF-PATCH-reflY.dxf\")\n",
    "convertall(inputfilename, outputfilename, cutlayers, penlayers, True, dmax)\n",
    "\n",
    "cutlayers, penlayers = ['MYLAR-CUT'], []\n",
    "dmylar = createorclear(aamaoutdir, \"mylar\")\n",
    "outputfilename = os.path.join(dmylar, \"F15-TSF-MYLAR.dxf\")\n",
    "convertall(inputfilename, outputfilename, cutlayers, penlayers, False, dmax)\n",
    "outputfilename = os.path.join(dmylar, \"F15-TSF-MYLAR-reflY.dxf\")\n",
    "convertall(inputfilename, outputfilename, cutlayers, penlayers, True, dmax)\n",
    ";"
   ]
  },
  {
   "cell_type": "code",
   "execution_count": 8,
   "id": "5f98c8b8",
   "metadata": {},
   "outputs": [
    {
     "name": "stdout",
     "output_type": "stream",
     "text": [
      "layerspresent: {'PATCH-PLOT', '0', 'PATCH-CUT', 'TSM-144-PLOT', 'TSR-144-PLOT', 'TSM-144-CUT', 'TSM-150-CUT', 'TSR-150-CUT', 'REFERENCE', 'CONSTRUCTION', 'TSR-144-CUT', 'TSR-150-PLOT', 'HISTORY', 'TSM-150-PLOT'}\n",
      "dmaxs-tail:  [1.3191514447337417e-10, 0.0020259419136499047, 0.15062684391013764]\n",
      "layerspresent: {'PATCH-PLOT', '0', 'PATCH-CUT', 'TSM-144-PLOT', 'TSR-144-PLOT', 'TSM-144-CUT', 'TSM-150-CUT', 'TSR-150-CUT', 'REFERENCE', 'CONSTRUCTION', 'TSR-144-CUT', 'TSR-150-PLOT', 'HISTORY', 'TSM-150-PLOT'}\n",
      "dmaxs-tail:  [1.3191514447337417e-10, 0.0020259419136499047, 0.15062684391013764]\n",
      "layerspresent: {'PATCH-PLOT', '0', 'PATCH-CUT', 'TSM-144-PLOT', 'TSR-144-PLOT', 'TSM-144-CUT', 'TSM-150-CUT', 'TSR-150-CUT', 'REFERENCE', 'CONSTRUCTION', 'TSR-144-CUT', 'TSR-150-PLOT', 'HISTORY', 'TSM-150-PLOT'}\n",
      "layerspresent: {'PATCH-PLOT', '0', 'PATCH-CUT', 'TSM-144-PLOT', 'TSR-144-PLOT', 'TSM-144-CUT', 'TSM-150-CUT', 'TSR-150-CUT', 'REFERENCE', 'CONSTRUCTION', 'TSR-144-CUT', 'TSR-150-PLOT', 'HISTORY', 'TSM-150-PLOT'}\n",
      "writing to ../dxffiles/aamaout/210mastsleeve\n",
      "layerspresent: {'PATCH-PLOT', '0', 'PATCH-CUT', 'TSM-144-PLOT', 'TSR-144-PLOT', 'TSM-144-CUT', 'TSM-150-CUT', 'TSR-150-CUT', 'REFERENCE', 'CONSTRUCTION', 'TSR-144-CUT', 'TSR-150-PLOT', 'HISTORY', 'TSM-150-PLOT'}\n",
      "dmaxs-tail:  [0.013801958018743583, 0.013801958022529094, 0.01911316556174089]\n",
      "dmaxs-tail:  [2.054701174470946e-05, 0.013801958018743583, 0.013801958022529094]\n",
      "dmaxs-tail:  [2.054701174470946e-05, 0.013801958018743583, 0.013801958022529094]\n",
      "dmaxs-tail:  [2.054701174470946e-05, 0.013801958018743583, 0.013801958022529094]\n",
      "dmaxs-tail:  [2.054701174470946e-05, 0.013801958018743583, 0.013801958022529094]\n",
      "dmaxs-tail:  [4.547473508864641e-11, 0.013801958018743583, 0.013801958022529094]\n",
      "dmaxs-tail:  [4.547473508864641e-11, 0.013801958018743583, 0.013801958022529094]\n",
      "dmaxs-tail:  [4.547473508864641e-11, 0.013801958018743583, 0.013801958022529094]\n",
      "dmaxs-tail:  [4.547473508864641e-11, 0.013801958018743583, 0.013801958022529094]\n",
      "dmaxs-tail:  [4.547473508864641e-11, 0.013801958018743583, 0.013801958022529094]\n",
      "dmaxs-tail:  [4.547473508864641e-11, 0.013801958018743583, 0.013801958022529094]\n",
      "dmaxs-tail:  [4.547473508864641e-11, 0.013801958018743583, 0.013801958022529094]\n",
      "dmaxs-tail:  [1.0913936421275139e-11, 0.013801958018743583, 0.013801958022529094]\n",
      "layerspresent: {'PATCH-PLOT', '0', 'PATCH-CUT', 'TSM-144-PLOT', 'TSR-144-PLOT', 'TSM-144-CUT', 'TSM-150-CUT', 'TSR-150-CUT', 'REFERENCE', 'CONSTRUCTION', 'TSR-144-CUT', 'TSR-150-PLOT', 'HISTORY', 'TSM-150-PLOT'}\n",
      "dmaxs-tail:  [0.013801958018743583, 0.013801958022529094, 0.01911316556174089]\n",
      "dmaxs-tail:  [2.054701174470946e-05, 0.013801958018743583, 0.013801958022529094]\n",
      "dmaxs-tail:  [2.054701174470946e-05, 0.013801958018743583, 0.013801958022529094]\n",
      "dmaxs-tail:  [2.054701174470946e-05, 0.013801958018743583, 0.013801958022529094]\n",
      "dmaxs-tail:  [2.054701174470946e-05, 0.013801958018743583, 0.013801958022529094]\n",
      "dmaxs-tail:  [4.547473508864641e-11, 0.013801958018743583, 0.013801958022529094]\n",
      "dmaxs-tail:  [4.547473508864641e-11, 0.013801958018743583, 0.013801958022529094]\n",
      "dmaxs-tail:  [4.547473508864641e-11, 0.013801958018743583, 0.013801958022529094]\n",
      "dmaxs-tail:  [4.547473508864641e-11, 0.013801958018743583, 0.013801958022529094]\n",
      "dmaxs-tail:  [4.547473508864641e-11, 0.013801958018743583, 0.013801958022529094]\n",
      "dmaxs-tail:  [4.547473508864641e-11, 0.013801958018743583, 0.013801958022529094]\n",
      "dmaxs-tail:  [4.547473508864641e-11, 0.013801958018743583, 0.013801958022529094]\n",
      "dmaxs-tail:  [1.0913936421275139e-11, 0.013801958018743583, 0.013801958022529094]\n"
     ]
    },
    {
     "data": {
      "text/plain": [
       "''"
      ]
     },
     "execution_count": 8,
     "metadata": {},
     "output_type": "execute_result"
    }
   ],
   "source": [
    "#-F15-TSR-TSM-Master-04.dxf. Top surface middle and top surface rear panels. \n",
    "#  TSR and TSM cut and plot from either 137cm wide Diax, 144cm wide 170 white or color or 150cm wide ODL06. \n",
    "#  Patch cut and patch-plot from 170 color (same as BS).\n",
    "\n",
    "aamaoutdir = \"../dxffiles/aamaout\"\n",
    "dmax = 0.2\n",
    "b144type = False\n",
    " \n",
    "carrierwingglider = False\n",
    "\n",
    "inputfilename = \"../dxffiles/F15-TSR-TSM-Master-04.dxf\"\n",
    "ddiax = createorclear(aamaoutdir, \"ODL06\")\n",
    "\n",
    "\n",
    "\n",
    "if b144type:\n",
    "    cutlayers, penlayers = ['TSR-144-CUT'], ['TSR-144-PLOT']\n",
    "else:\n",
    "    cutlayers, penlayers = ['TSR-150-CUT'], ['TSR-150-PLOT']\n",
    "outputfilename = os.path.join(ddiax, \"F15-TSR.dxf\")\n",
    "convertall(inputfilename, outputfilename, cutlayers, penlayers, False, dmax)\n",
    "outputfilename = os.path.join(ddiax, \"F15-TSR-reflY.dxf\")\n",
    "convertall(inputfilename, outputfilename, cutlayers, penlayers, True, dmax)\n",
    "\n",
    "if b144type:\n",
    "    cutlayers, penlayers = ['TSM-144-CUT'], ['TSM-144-PLOT']\n",
    "else:\n",
    "    cutlayers, penlayers = ['TSM-150-CUT'], ['TSM-150-PLOT']\n",
    "outputfilename = os.path.join(ddiax, \"F15-TSM.dxf\")\n",
    "convertall(inputfilename, outputfilename, cutlayers, penlayers, False, dmax)\n",
    "outputfilename = os.path.join(ddiax, \"F15-TSM-reflY.dxf\")\n",
    "convertall(inputfilename, outputfilename, cutlayers, penlayers, True, dmax)\n",
    "\n",
    "print(\"writing to\", d210mastsleeve)\n",
    "cutlayers, penlayers = ['PATCH-CUT'], ['PATCH-PLOT']\n",
    "outputfilename = os.path.join(d210mastsleeve, \"F15-PATCH.dxf\")\n",
    "convertall(inputfilename, outputfilename, cutlayers, penlayers, False, dmax)\n",
    "outputfilename = os.path.join(d210mastsleeve, \"F15-PATCH-reflY.dxf\")\n",
    "convertall(inputfilename, outputfilename, cutlayers, penlayers, True, dmax)\n",
    ";"
   ]
  },
  {
   "cell_type": "code",
   "execution_count": 9,
   "id": "4ed143b0",
   "metadata": {},
   "outputs": [
    {
     "name": "stdout",
     "output_type": "stream",
     "text": [
      "layerspresent: {'KP-CUT', 'KP-PLOT'}\n"
     ]
    },
    {
     "data": {
      "text/plain": [
       "[([<class 'ezdxf.entities.arc.Arc'> ARC(#55),\n",
       "   <class 'ezdxf.entities.line.Line'> LINE(#54),\n",
       "   <class 'ezdxf.entities.arc.Arc'> ARC(#53),\n",
       "   <class 'ezdxf.entities.line.Line'> LINE(#52),\n",
       "   <class 'ezdxf.entities.arc.Arc'> ARC(#51),\n",
       "   <class 'ezdxf.entities.line.Line'> LINE(#50),\n",
       "   <class 'ezdxf.entities.arc.Arc'> ARC(#4F),\n",
       "   <class 'ezdxf.entities.line.Line'> LINE(#67),\n",
       "   <class 'ezdxf.entities.line.Line'> LINE(#66),\n",
       "   <class 'ezdxf.entities.line.Line'> LINE(#68),\n",
       "   <class 'ezdxf.entities.line.Line'> LINE(#62),\n",
       "   <class 'ezdxf.entities.arc.Arc'> ARC(#59),\n",
       "   <class 'ezdxf.entities.line.Line'> LINE(#5A),\n",
       "   <class 'ezdxf.entities.arc.Arc'> ARC(#5B),\n",
       "   <class 'ezdxf.entities.line.Line'> LINE(#5C),\n",
       "   <class 'ezdxf.entities.arc.Arc'> ARC(#5D),\n",
       "   <class 'ezdxf.entities.line.Line'> LINE(#5E),\n",
       "   <class 'ezdxf.entities.arc.Arc'> ARC(#5F),\n",
       "   <class 'ezdxf.entities.line.Line'> LINE(#60),\n",
       "   <class 'ezdxf.entities.arc.Arc'> ARC(#61),\n",
       "   <class 'ezdxf.entities.line.Line'> LINE(#63),\n",
       "   <class 'ezdxf.entities.line.Line'> LINE(#58),\n",
       "   <class 'ezdxf.entities.arc.Arc'> ARC(#57),\n",
       "   <class 'ezdxf.entities.line.Line'> LINE(#56)],\n",
       "  [False,\n",
       "   False,\n",
       "   True,\n",
       "   False,\n",
       "   False,\n",
       "   False,\n",
       "   True,\n",
       "   False,\n",
       "   True,\n",
       "   True,\n",
       "   True,\n",
       "   True,\n",
       "   True,\n",
       "   False,\n",
       "   True,\n",
       "   True,\n",
       "   True,\n",
       "   False,\n",
       "   True,\n",
       "   True,\n",
       "   True,\n",
       "   False,\n",
       "   True,\n",
       "   False],\n",
       "  [],\n",
       "  [<class 'ezdxf.entities.line.Line'> LINE(#64),\n",
       "   <class 'ezdxf.entities.line.Line'> LINE(#65),\n",
       "   <class 'ezdxf.entities.line.Line'> LINE(#69)])]"
      ]
     },
     "execution_count": 9,
     "metadata": {},
     "output_type": "execute_result"
    }
   ],
   "source": [
    "#Fly15 Keel pocket, no reflection needed\n",
    "\n",
    "inputfilename = \"../dxffiles/F15-KP-01.dxf\"\n",
    "cutlayers, penlayers = [\"KP-CUT\"], ['KP-PLOT']\n",
    "outputfilename = os.path.join(d210mastsleeve, \"F15-KP.dxf\")\n",
    "convertall(inputfilename, outputfilename, cutlayers, penlayers, False, dmax)"
   ]
  },
  {
   "cell_type": "code",
   "execution_count": 10,
   "id": "a9462be3",
   "metadata": {},
   "outputs": [
    {
     "name": "stdout",
     "output_type": "stream",
     "text": [
      "layerspresent: {'CUT', 'PLOT'}\n"
     ]
    },
    {
     "data": {
      "text/plain": [
       "[([<class 'ezdxf.entities.line.Line'> LINE(#20015),\n",
       "   <class 'ezdxf.entities.line.Line'> LINE(#20014),\n",
       "   <class 'ezdxf.entities.line.Line'> LINE(#20013),\n",
       "   <class 'ezdxf.entities.line.Line'> LINE(#20016)],\n",
       "  [False, False, False, False],\n",
       "  [],\n",
       "  [<class 'ezdxf.entities.circle.Circle'> CIRCLE(#50),\n",
       "   <class 'ezdxf.entities.circle.Circle'> CIRCLE(#51),\n",
       "   <class 'ezdxf.entities.circle.Circle'> CIRCLE(#52),\n",
       "   <class 'ezdxf.entities.circle.Circle'> CIRCLE(#53),\n",
       "   <class 'ezdxf.entities.circle.Circle'> CIRCLE(#54),\n",
       "   <class 'ezdxf.entities.line.Line'> LINE(#55),\n",
       "   <class 'ezdxf.entities.line.Line'> LINE(#56)])]"
      ]
     },
     "execution_count": 10,
     "metadata": {},
     "output_type": "execute_result"
    }
   ],
   "source": [
    "#Pen alignment test, no reflection needed\n",
    "\n",
    "inputfilename = \"../dxffiles/Pen-align-test.dxf\"\n",
    "cutlayers, penlayers = [\"CUT\"], ['PLOT']\n",
    "outputfilename = os.path.join(d170color, \"test.dxf\")\n",
    "convertall(inputfilename, outputfilename, cutlayers, penlayers, False, dmax)"
   ]
  },
  {
   "cell_type": "code",
   "execution_count": null,
   "id": "7003c79e",
   "metadata": {},
   "outputs": [],
   "source": []
  }
 ],
 "metadata": {
  "kernelspec": {
   "display_name": "Python 3 (ipykernel)",
   "language": "python",
   "name": "python3"
  },
  "language_info": {
   "codemirror_mode": {
    "name": "ipython",
    "version": 3
   },
   "file_extension": ".py",
   "mimetype": "text/x-python",
   "name": "python",
   "nbconvert_exporter": "python",
   "pygments_lexer": "ipython3",
   "version": "3.8.12"
  }
 },
 "nbformat": 4,
 "nbformat_minor": 5
}
